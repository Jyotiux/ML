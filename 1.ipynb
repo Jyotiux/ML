{
 "cells": [
  {
   "cell_type": "code",
   "execution_count": 1,
   "id": "3c994b05-fc10-4c17-a660-a4ad31dba12c",
   "metadata": {},
   "outputs": [],
   "source": [
    "from sklearn.datasets import load_digits\n",
    "import pandas as pd\n",
    "import matplotlib\n",
    "import matplotlib.pyplot as plt\n",
    "%matplotlib inline"
   ]
  },
  {
   "cell_type": "code",
   "execution_count": 2,
   "id": "3640cc46-83f1-41a7-a9b6-34cf2e99a1bb",
   "metadata": {},
   "outputs": [],
   "source": [
    "mnist = load_digits()\n",
    "# load dataset\n",
    "#load_digits() loads the Digits dataset from sklearn.datasets, which contains images of handwritten digits (0-9) but at a lower resolution (8x8 pixels)."
   ]
  },
  {
   "cell_type": "code",
   "execution_count": 3,
   "id": "d109d47d-e85a-4344-82f3-53f238defaf4",
   "metadata": {},
   "outputs": [
    {
     "data": {
      "text/plain": [
       "sklearn.utils._bunch.Bunch"
      ]
     },
     "execution_count": 3,
     "metadata": {},
     "output_type": "execute_result"
    }
   ],
   "source": [
    "type(mnist)\n",
    "# mnist is a Bunch object (similar to a dictionary).\n",
    "# sklearn.utils._bunch.Bunch is a lightweight utility class that can simplify data handling and improve code readability within scikit-learn projects"
   ]
  },
  {
   "cell_type": "code",
   "execution_count": 4,
   "id": "2f8be2d4-eda4-436e-b852-a06f46990e15",
   "metadata": {
    "scrolled": true
   },
   "outputs": [
    {
     "data": {
      "text/plain": [
       "{'data': array([[ 0.,  0.,  5., ...,  0.,  0.,  0.],\n",
       "        [ 0.,  0.,  0., ..., 10.,  0.,  0.],\n",
       "        [ 0.,  0.,  0., ..., 16.,  9.,  0.],\n",
       "        ...,\n",
       "        [ 0.,  0.,  1., ...,  6.,  0.,  0.],\n",
       "        [ 0.,  0.,  2., ..., 12.,  0.,  0.],\n",
       "        [ 0.,  0., 10., ..., 12.,  1.,  0.]]),\n",
       " 'target': array([0, 1, 2, ..., 8, 9, 8]),\n",
       " 'frame': None,\n",
       " 'feature_names': ['pixel_0_0',\n",
       "  'pixel_0_1',\n",
       "  'pixel_0_2',\n",
       "  'pixel_0_3',\n",
       "  'pixel_0_4',\n",
       "  'pixel_0_5',\n",
       "  'pixel_0_6',\n",
       "  'pixel_0_7',\n",
       "  'pixel_1_0',\n",
       "  'pixel_1_1',\n",
       "  'pixel_1_2',\n",
       "  'pixel_1_3',\n",
       "  'pixel_1_4',\n",
       "  'pixel_1_5',\n",
       "  'pixel_1_6',\n",
       "  'pixel_1_7',\n",
       "  'pixel_2_0',\n",
       "  'pixel_2_1',\n",
       "  'pixel_2_2',\n",
       "  'pixel_2_3',\n",
       "  'pixel_2_4',\n",
       "  'pixel_2_5',\n",
       "  'pixel_2_6',\n",
       "  'pixel_2_7',\n",
       "  'pixel_3_0',\n",
       "  'pixel_3_1',\n",
       "  'pixel_3_2',\n",
       "  'pixel_3_3',\n",
       "  'pixel_3_4',\n",
       "  'pixel_3_5',\n",
       "  'pixel_3_6',\n",
       "  'pixel_3_7',\n",
       "  'pixel_4_0',\n",
       "  'pixel_4_1',\n",
       "  'pixel_4_2',\n",
       "  'pixel_4_3',\n",
       "  'pixel_4_4',\n",
       "  'pixel_4_5',\n",
       "  'pixel_4_6',\n",
       "  'pixel_4_7',\n",
       "  'pixel_5_0',\n",
       "  'pixel_5_1',\n",
       "  'pixel_5_2',\n",
       "  'pixel_5_3',\n",
       "  'pixel_5_4',\n",
       "  'pixel_5_5',\n",
       "  'pixel_5_6',\n",
       "  'pixel_5_7',\n",
       "  'pixel_6_0',\n",
       "  'pixel_6_1',\n",
       "  'pixel_6_2',\n",
       "  'pixel_6_3',\n",
       "  'pixel_6_4',\n",
       "  'pixel_6_5',\n",
       "  'pixel_6_6',\n",
       "  'pixel_6_7',\n",
       "  'pixel_7_0',\n",
       "  'pixel_7_1',\n",
       "  'pixel_7_2',\n",
       "  'pixel_7_3',\n",
       "  'pixel_7_4',\n",
       "  'pixel_7_5',\n",
       "  'pixel_7_6',\n",
       "  'pixel_7_7'],\n",
       " 'target_names': array([0, 1, 2, 3, 4, 5, 6, 7, 8, 9]),\n",
       " 'images': array([[[ 0.,  0.,  5., ...,  1.,  0.,  0.],\n",
       "         [ 0.,  0., 13., ..., 15.,  5.,  0.],\n",
       "         [ 0.,  3., 15., ..., 11.,  8.,  0.],\n",
       "         ...,\n",
       "         [ 0.,  4., 11., ..., 12.,  7.,  0.],\n",
       "         [ 0.,  2., 14., ..., 12.,  0.,  0.],\n",
       "         [ 0.,  0.,  6., ...,  0.,  0.,  0.]],\n",
       " \n",
       "        [[ 0.,  0.,  0., ...,  5.,  0.,  0.],\n",
       "         [ 0.,  0.,  0., ...,  9.,  0.,  0.],\n",
       "         [ 0.,  0.,  3., ...,  6.,  0.,  0.],\n",
       "         ...,\n",
       "         [ 0.,  0.,  1., ...,  6.,  0.,  0.],\n",
       "         [ 0.,  0.,  1., ...,  6.,  0.,  0.],\n",
       "         [ 0.,  0.,  0., ..., 10.,  0.,  0.]],\n",
       " \n",
       "        [[ 0.,  0.,  0., ..., 12.,  0.,  0.],\n",
       "         [ 0.,  0.,  3., ..., 14.,  0.,  0.],\n",
       "         [ 0.,  0.,  8., ..., 16.,  0.,  0.],\n",
       "         ...,\n",
       "         [ 0.,  9., 16., ...,  0.,  0.,  0.],\n",
       "         [ 0.,  3., 13., ..., 11.,  5.,  0.],\n",
       "         [ 0.,  0.,  0., ..., 16.,  9.,  0.]],\n",
       " \n",
       "        ...,\n",
       " \n",
       "        [[ 0.,  0.,  1., ...,  1.,  0.,  0.],\n",
       "         [ 0.,  0., 13., ...,  2.,  1.,  0.],\n",
       "         [ 0.,  0., 16., ..., 16.,  5.,  0.],\n",
       "         ...,\n",
       "         [ 0.,  0., 16., ..., 15.,  0.,  0.],\n",
       "         [ 0.,  0., 15., ..., 16.,  0.,  0.],\n",
       "         [ 0.,  0.,  2., ...,  6.,  0.,  0.]],\n",
       " \n",
       "        [[ 0.,  0.,  2., ...,  0.,  0.,  0.],\n",
       "         [ 0.,  0., 14., ..., 15.,  1.,  0.],\n",
       "         [ 0.,  4., 16., ..., 16.,  7.,  0.],\n",
       "         ...,\n",
       "         [ 0.,  0.,  0., ..., 16.,  2.,  0.],\n",
       "         [ 0.,  0.,  4., ..., 16.,  2.,  0.],\n",
       "         [ 0.,  0.,  5., ..., 12.,  0.,  0.]],\n",
       " \n",
       "        [[ 0.,  0., 10., ...,  1.,  0.,  0.],\n",
       "         [ 0.,  2., 16., ...,  1.,  0.,  0.],\n",
       "         [ 0.,  0., 15., ..., 15.,  0.,  0.],\n",
       "         ...,\n",
       "         [ 0.,  4., 16., ..., 16.,  6.,  0.],\n",
       "         [ 0.,  8., 16., ..., 16.,  8.,  0.],\n",
       "         [ 0.,  1.,  8., ..., 12.,  1.,  0.]]]),\n",
       " 'DESCR': \".. _digits_dataset:\\n\\nOptical recognition of handwritten digits dataset\\n--------------------------------------------------\\n\\n**Data Set Characteristics:**\\n\\n:Number of Instances: 1797\\n:Number of Attributes: 64\\n:Attribute Information: 8x8 image of integer pixels in the range 0..16.\\n:Missing Attribute Values: None\\n:Creator: E. Alpaydin (alpaydin '@' boun.edu.tr)\\n:Date: July; 1998\\n\\nThis is a copy of the test set of the UCI ML hand-written digits datasets\\nhttps://archive.ics.uci.edu/ml/datasets/Optical+Recognition+of+Handwritten+Digits\\n\\nThe data set contains images of hand-written digits: 10 classes where\\neach class refers to a digit.\\n\\nPreprocessing programs made available by NIST were used to extract\\nnormalized bitmaps of handwritten digits from a preprinted form. From a\\ntotal of 43 people, 30 contributed to the training set and different 13\\nto the test set. 32x32 bitmaps are divided into nonoverlapping blocks of\\n4x4 and the number of on pixels are counted in each block. This generates\\nan input matrix of 8x8 where each element is an integer in the range\\n0..16. This reduces dimensionality and gives invariance to small\\ndistortions.\\n\\nFor info on NIST preprocessing routines, see M. D. Garris, J. L. Blue, G.\\nT. Candela, D. L. Dimmick, J. Geist, P. J. Grother, S. A. Janet, and C.\\nL. Wilson, NIST Form-Based Handprint Recognition System, NISTIR 5469,\\n1994.\\n\\n.. dropdown:: References\\n\\n  - C. Kaynak (1995) Methods of Combining Multiple Classifiers and Their\\n    Applications to Handwritten Digit Recognition, MSc Thesis, Institute of\\n    Graduate Studies in Science and Engineering, Bogazici University.\\n  - E. Alpaydin, C. Kaynak (1998) Cascading Classifiers, Kybernetika.\\n  - Ken Tang and Ponnuthurai N. Suganthan and Xi Yao and A. Kai Qin.\\n    Linear dimensionalityreduction using relevance weighted LDA. School of\\n    Electrical and Electronic Engineering Nanyang Technological University.\\n    2005.\\n  - Claudio Gentile. A New Approximate Maximal Margin Classification\\n    Algorithm. NIPS. 2000.\\n\"}"
      ]
     },
     "execution_count": 4,
     "metadata": {},
     "output_type": "execute_result"
    }
   ],
   "source": [
    "mnist"
   ]
  },
  {
   "cell_type": "code",
   "execution_count": 5,
   "id": "888c6039-b4ea-44fe-be50-fecdfa077e46",
   "metadata": {},
   "outputs": [
    {
     "data": {
      "text/html": [
       "<div>\n",
       "<style scoped>\n",
       "    .dataframe tbody tr th:only-of-type {\n",
       "        vertical-align: middle;\n",
       "    }\n",
       "\n",
       "    .dataframe tbody tr th {\n",
       "        vertical-align: top;\n",
       "    }\n",
       "\n",
       "    .dataframe thead th {\n",
       "        text-align: right;\n",
       "    }\n",
       "</style>\n",
       "<table border=\"1\" class=\"dataframe\">\n",
       "  <thead>\n",
       "    <tr style=\"text-align: right;\">\n",
       "      <th></th>\n",
       "      <th>0</th>\n",
       "      <th>1</th>\n",
       "      <th>2</th>\n",
       "      <th>3</th>\n",
       "      <th>4</th>\n",
       "      <th>5</th>\n",
       "      <th>6</th>\n",
       "      <th>7</th>\n",
       "      <th>8</th>\n",
       "      <th>9</th>\n",
       "      <th>...</th>\n",
       "      <th>54</th>\n",
       "      <th>55</th>\n",
       "      <th>56</th>\n",
       "      <th>57</th>\n",
       "      <th>58</th>\n",
       "      <th>59</th>\n",
       "      <th>60</th>\n",
       "      <th>61</th>\n",
       "      <th>62</th>\n",
       "      <th>63</th>\n",
       "    </tr>\n",
       "  </thead>\n",
       "  <tbody>\n",
       "    <tr>\n",
       "      <th>0</th>\n",
       "      <td>0.0</td>\n",
       "      <td>0.0</td>\n",
       "      <td>5.0</td>\n",
       "      <td>13.0</td>\n",
       "      <td>9.0</td>\n",
       "      <td>1.0</td>\n",
       "      <td>0.0</td>\n",
       "      <td>0.0</td>\n",
       "      <td>0.0</td>\n",
       "      <td>0.0</td>\n",
       "      <td>...</td>\n",
       "      <td>0.0</td>\n",
       "      <td>0.0</td>\n",
       "      <td>0.0</td>\n",
       "      <td>0.0</td>\n",
       "      <td>6.0</td>\n",
       "      <td>13.0</td>\n",
       "      <td>10.0</td>\n",
       "      <td>0.0</td>\n",
       "      <td>0.0</td>\n",
       "      <td>0.0</td>\n",
       "    </tr>\n",
       "    <tr>\n",
       "      <th>1</th>\n",
       "      <td>0.0</td>\n",
       "      <td>0.0</td>\n",
       "      <td>0.0</td>\n",
       "      <td>12.0</td>\n",
       "      <td>13.0</td>\n",
       "      <td>5.0</td>\n",
       "      <td>0.0</td>\n",
       "      <td>0.0</td>\n",
       "      <td>0.0</td>\n",
       "      <td>0.0</td>\n",
       "      <td>...</td>\n",
       "      <td>0.0</td>\n",
       "      <td>0.0</td>\n",
       "      <td>0.0</td>\n",
       "      <td>0.0</td>\n",
       "      <td>0.0</td>\n",
       "      <td>11.0</td>\n",
       "      <td>16.0</td>\n",
       "      <td>10.0</td>\n",
       "      <td>0.0</td>\n",
       "      <td>0.0</td>\n",
       "    </tr>\n",
       "    <tr>\n",
       "      <th>2</th>\n",
       "      <td>0.0</td>\n",
       "      <td>0.0</td>\n",
       "      <td>0.0</td>\n",
       "      <td>4.0</td>\n",
       "      <td>15.0</td>\n",
       "      <td>12.0</td>\n",
       "      <td>0.0</td>\n",
       "      <td>0.0</td>\n",
       "      <td>0.0</td>\n",
       "      <td>0.0</td>\n",
       "      <td>...</td>\n",
       "      <td>5.0</td>\n",
       "      <td>0.0</td>\n",
       "      <td>0.0</td>\n",
       "      <td>0.0</td>\n",
       "      <td>0.0</td>\n",
       "      <td>3.0</td>\n",
       "      <td>11.0</td>\n",
       "      <td>16.0</td>\n",
       "      <td>9.0</td>\n",
       "      <td>0.0</td>\n",
       "    </tr>\n",
       "    <tr>\n",
       "      <th>3</th>\n",
       "      <td>0.0</td>\n",
       "      <td>0.0</td>\n",
       "      <td>7.0</td>\n",
       "      <td>15.0</td>\n",
       "      <td>13.0</td>\n",
       "      <td>1.0</td>\n",
       "      <td>0.0</td>\n",
       "      <td>0.0</td>\n",
       "      <td>0.0</td>\n",
       "      <td>8.0</td>\n",
       "      <td>...</td>\n",
       "      <td>9.0</td>\n",
       "      <td>0.0</td>\n",
       "      <td>0.0</td>\n",
       "      <td>0.0</td>\n",
       "      <td>7.0</td>\n",
       "      <td>13.0</td>\n",
       "      <td>13.0</td>\n",
       "      <td>9.0</td>\n",
       "      <td>0.0</td>\n",
       "      <td>0.0</td>\n",
       "    </tr>\n",
       "    <tr>\n",
       "      <th>4</th>\n",
       "      <td>0.0</td>\n",
       "      <td>0.0</td>\n",
       "      <td>0.0</td>\n",
       "      <td>1.0</td>\n",
       "      <td>11.0</td>\n",
       "      <td>0.0</td>\n",
       "      <td>0.0</td>\n",
       "      <td>0.0</td>\n",
       "      <td>0.0</td>\n",
       "      <td>0.0</td>\n",
       "      <td>...</td>\n",
       "      <td>0.0</td>\n",
       "      <td>0.0</td>\n",
       "      <td>0.0</td>\n",
       "      <td>0.0</td>\n",
       "      <td>0.0</td>\n",
       "      <td>2.0</td>\n",
       "      <td>16.0</td>\n",
       "      <td>4.0</td>\n",
       "      <td>0.0</td>\n",
       "      <td>0.0</td>\n",
       "    </tr>\n",
       "  </tbody>\n",
       "</table>\n",
       "<p>5 rows × 64 columns</p>\n",
       "</div>"
      ],
      "text/plain": [
       "    0    1    2     3     4     5    6    7    8    9   ...   54   55   56  \\\n",
       "0  0.0  0.0  5.0  13.0   9.0   1.0  0.0  0.0  0.0  0.0  ...  0.0  0.0  0.0   \n",
       "1  0.0  0.0  0.0  12.0  13.0   5.0  0.0  0.0  0.0  0.0  ...  0.0  0.0  0.0   \n",
       "2  0.0  0.0  0.0   4.0  15.0  12.0  0.0  0.0  0.0  0.0  ...  5.0  0.0  0.0   \n",
       "3  0.0  0.0  7.0  15.0  13.0   1.0  0.0  0.0  0.0  8.0  ...  9.0  0.0  0.0   \n",
       "4  0.0  0.0  0.0   1.0  11.0   0.0  0.0  0.0  0.0  0.0  ...  0.0  0.0  0.0   \n",
       "\n",
       "    57   58    59    60    61   62   63  \n",
       "0  0.0  6.0  13.0  10.0   0.0  0.0  0.0  \n",
       "1  0.0  0.0  11.0  16.0  10.0  0.0  0.0  \n",
       "2  0.0  0.0   3.0  11.0  16.0  9.0  0.0  \n",
       "3  0.0  7.0  13.0  13.0   9.0  0.0  0.0  \n",
       "4  0.0  0.0   2.0  16.0   4.0  0.0  0.0  \n",
       "\n",
       "[5 rows x 64 columns]"
      ]
     },
     "execution_count": 5,
     "metadata": {},
     "output_type": "execute_result"
    }
   ],
   "source": [
    "pd.DataFrame(mnist.data).head()\n",
    "# Printing the first 5 rows of the dataset"
   ]
  },
  {
   "cell_type": "code",
   "execution_count": 6,
   "id": "eabfa391-fc16-4030-9cc5-cbe9f042d5a4",
   "metadata": {},
   "outputs": [
    {
     "data": {
      "text/html": [
       "<div>\n",
       "<style scoped>\n",
       "    .dataframe tbody tr th:only-of-type {\n",
       "        vertical-align: middle;\n",
       "    }\n",
       "\n",
       "    .dataframe tbody tr th {\n",
       "        vertical-align: top;\n",
       "    }\n",
       "\n",
       "    .dataframe thead th {\n",
       "        text-align: right;\n",
       "    }\n",
       "</style>\n",
       "<table border=\"1\" class=\"dataframe\">\n",
       "  <thead>\n",
       "    <tr style=\"text-align: right;\">\n",
       "      <th></th>\n",
       "      <th>0</th>\n",
       "    </tr>\n",
       "  </thead>\n",
       "  <tbody>\n",
       "    <tr>\n",
       "      <th>0</th>\n",
       "      <td>0</td>\n",
       "    </tr>\n",
       "    <tr>\n",
       "      <th>1</th>\n",
       "      <td>1</td>\n",
       "    </tr>\n",
       "    <tr>\n",
       "      <th>2</th>\n",
       "      <td>2</td>\n",
       "    </tr>\n",
       "    <tr>\n",
       "      <th>3</th>\n",
       "      <td>3</td>\n",
       "    </tr>\n",
       "    <tr>\n",
       "      <th>4</th>\n",
       "      <td>4</td>\n",
       "    </tr>\n",
       "  </tbody>\n",
       "</table>\n",
       "</div>"
      ],
      "text/plain": [
       "   0\n",
       "0  0\n",
       "1  1\n",
       "2  2\n",
       "3  3\n",
       "4  4"
      ]
     },
     "execution_count": 6,
     "metadata": {},
     "output_type": "execute_result"
    }
   ],
   "source": [
    "pd.DataFrame(mnist.target).head()\n",
    "# This will display the first 5 labels of the digits dataset."
   ]
  },
  {
   "cell_type": "code",
   "execution_count": 7,
   "id": "20672375-5c46-4d54-b5e4-1062c9277bdf",
   "metadata": {},
   "outputs": [
    {
     "name": "stdout",
     "output_type": "stream",
     "text": [
      "(1797, 64)\n",
      "(1797,)\n"
     ]
    }
   ],
   "source": [
    "X, y = mnist[\"data\"], mnist[\"target\"]\n",
    "print(X.shape)\n",
    "print(y.shape)\n",
    "# assigning data to X and label values to y"
   ]
  },
  {
   "cell_type": "markdown",
   "id": "547a4502-8c6c-4cfe-a87b-bbe38d51bfdd",
   "metadata": {},
   "source": [
    "The images are small and consist of 64 pixels (8 rows and 8 columns), each representing a pixel's intensity.\n",
    "\n",
    "Each sample in digits.data is a flattened 1D array of 64 values (one for each pixel in the 8x8 grid)."
   ]
  },
  {
   "cell_type": "markdown",
   "id": "48697009-3307-4be6-ae5f-80f94626a585",
   "metadata": {},
   "source": [
    "# Binary Classification"
   ]
  },
  {
   "cell_type": "code",
   "execution_count": 10,
   "id": "7ebd24bc-ea04-4894-b8e9-76c72a4aff09",
   "metadata": {},
   "outputs": [
    {
     "data": {
      "image/png": "[encoded data removed]",
      "text/plain": [
       "<Figure size 640x480 with 1 Axes>"
      ]
     },
     "metadata": {},
     "output_type": "display_data"
    }
   ],
   "source": [
    "# assigning 1000th value of X in some_digit variable\n",
    "some_digit = X[1000]\n",
    "some_digit_image = some_digit.reshape(8, 8)\n",
    "plt.imshow(some_digit_image, cmap = matplotlib.cm.viridis,interpolation=\"nearest\")\n",
    "# The cmap parameter defines the colormap used to map data values to colors. In this case, matplotlib.cm.binary is a colormap for binary (black-and-white) images.\n",
    "# gray: A grayscale colormap.\n",
    "# viridis: A perceptually uniform colormap (default for many plots).\n",
    "# jet: A rainbow colormap, commonly used in scientific visualization.\n",
    "# plasma, inferno, magma: Other perceptually uniform colormaps.\n",
    "\n",
    "# interpolation - This determines how to handle interpolation when the image is resized. For nearest, no interpolation is applied\n",
    "# bilinear: Interpolates the image to smooth pixel transitions (default for most images).\n",
    "# bicubic: A more complex interpolation method, often resulting in smoother images.\n",
    "# spline36: Uses spline interpolation with 36-degree polynomials.\n",
    "# hanning, hamming, hermite, etc.: Various methods using window functions for interpolation.\n",
    "plt.axis(\"off\")\n",
    "plt.show()"
   ]
  },
  {
   "cell_type": "code",
   "execution_count": 11,
   "id": "7c8d74f1-08ae-4ded-b102-ccf90eb5746b",
   "metadata": {},
   "outputs": [
    {
     "data": {
      "text/plain": [
       "1"
      ]
     },
     "execution_count": 11,
     "metadata": {},
     "output_type": "execute_result"
    }
   ],
   "source": [
    "y[1000]\n",
    "# label at 1000th index"
   ]
  },
  {
   "cell_type": "code",
   "execution_count": 12,
   "id": "28140207-bde4-4dce-b6bd-7022d30ff199",
   "metadata": {},
   "outputs": [],
   "source": [
    " X_train, X_test, y_train, y_test = X[:1000], X[1000:], y[:1000], y[1000:]\n",
    "# split into train and test set"
   ]
  },
  {
   "cell_type": "code",
   "execution_count": 13,
   "id": "0b8aae8b-2e9a-4c43-bf63-fbd7e3f127f3",
   "metadata": {},
   "outputs": [],
   "source": [
    " import numpy as np\n",
    " shuffle_index = np.random.permutation(1000)\n",
    "# generates random sequence of numbers 0 to 999\n",
    " X_train, y_train = X_train[shuffle_index], y_train[shuffle_index]\n",
    "# we get shuffled data"
   ]
  },
  {
   "cell_type": "code",
   "execution_count": 21,
   "id": "2d0f6998-7a99-4a69-8211-2804144656ca",
   "metadata": {},
   "outputs": [],
   "source": [
    " y_train_1 = (y_train == 1)  \n",
    "# True for all 1s, False for all other digits.\n",
    " y_test_1 = (y_test == 1)"
   ]
  },
  {
   "cell_type": "markdown",
   "id": "b3cfdade-7f97-423a-afdb-48d44a4fc87c",
   "metadata": {},
   "source": [
    "### SGD Classifier"
   ]
  },
  {
   "cell_type": "markdown",
   "id": "827e93a8-f52d-406f-9102-8123fc261b9a",
   "metadata": {},
   "source": [
    "The SGDClassifier in Scikit-Learn is a linear classifier that uses Stochastic Gradient Descent (SGD) to optimize the model parameters. It is particularly useful for large-scale classification problems."
   ]
  },
  {
   "cell_type": "code",
   "execution_count": 29,
   "id": "83841af7-3564-4093-afc6-db7a04c07676",
   "metadata": {},
   "outputs": [
    {
     "data": {
      "text/html": [
       "<style>#sk-container-id-1 {\n",
       "  /* Definition of color scheme common for light and dark mode */\n",
       "  --sklearn-color-text: black;\n",
       "  --sklearn-color-line: gray;\n",
       "  /* Definition of color scheme for unfitted estimators */\n",
       "  --sklearn-color-unfitted-level-0: #fff5e6;\n",
       "  --sklearn-color-unfitted-level-1: #f6e4d2;\n",
       "  --sklearn-color-unfitted-level-2: #ffe0b3;\n",
       "  --sklearn-color-unfitted-level-3: chocolate;\n",
       "  /* Definition of color scheme for fitted estimators */\n",
       "  --sklearn-color-fitted-level-0: #f0f8ff;\n",
       "  --sklearn-color-fitted-level-1: #d4ebff;\n",
       "  --sklearn-color-fitted-level-2: #b3dbfd;\n",
       "  --sklearn-color-fitted-level-3: cornflowerblue;\n",
       "\n",
       "  /* Specific color for light theme */\n",
       "  --sklearn-color-text-on-default-background: var(--sg-text-color, var(--theme-code-foreground, var(--jp-content-font-color1, black)));\n",
       "  --sklearn-color-background: var(--sg-background-color, var(--theme-background, var(--jp-layout-color0, white)));\n",
       "  --sklearn-color-border-box: var(--sg-text-color, var(--theme-code-foreground, var(--jp-content-font-color1, black)));\n",
       "  --sklearn-color-icon: #696969;\n",
       "\n",
       "  @media (prefers-color-scheme: dark) {\n",
       "    /* Redefinition of color scheme for dark theme */\n",
       "    --sklearn-color-text-on-default-background: var(--sg-text-color, var(--theme-code-foreground, var(--jp-content-font-color1, white)));\n",
       "    --sklearn-color-background: var(--sg-background-color, var(--theme-background, var(--jp-layout-color0, #111)));\n",
       "    --sklearn-color-border-box: var(--sg-text-color, var(--theme-code-foreground, var(--jp-content-font-color1, white)));\n",
       "    --sklearn-color-icon: #878787;\n",
       "  }\n",
       "}\n",
       "\n",
       "#sk-container-id-1 {\n",
       "  color: var(--sklearn-color-text);\n",
       "}\n",
       "\n",
       "#sk-container-id-1 pre {\n",
       "  padding: 0;\n",
       "}\n",
       "\n",
       "#sk-container-id-1 input.sk-hidden--visually {\n",
       "  border: 0;\n",
       "  clip: rect(1px 1px 1px 1px);\n",
       "  clip: rect(1px, 1px, 1px, 1px);\n",
       "  height: 1px;\n",
       "  margin: -1px;\n",
       "  overflow: hidden;\n",
       "  padding: 0;\n",
       "  position: absolute;\n",
       "  width: 1px;\n",
       "}\n",
       "\n",
       "#sk-container-id-1 div.sk-dashed-wrapped {\n",
       "  border: 1px dashed var(--sklearn-color-line);\n",
       "  margin: 0 0.4em 0.5em 0.4em;\n",
       "  box-sizing: border-box;\n",
       "  padding-bottom: 0.4em;\n",
       "  background-color: var(--sklearn-color-background);\n",
       "}\n",
       "\n",
       "#sk-container-id-1 div.sk-container {\n",
       "  /* jupyter's `normalize.less` sets `[hidden] { display: none; }`\n",
       "     but bootstrap.min.css set `[hidden] { display: none !important; }`\n",
       "     so we also need the `!important` here to be able to override the\n",
       "     default hidden behavior on the sphinx rendered scikit-learn.org.\n",
       "     See: https://github.com/scikit-learn/scikit-learn/issues/21755 */\n",
       "  display: inline-block !important;\n",
       "  position: relative;\n",
       "}\n",
       "\n",
       "#sk-container-id-1 div.sk-text-repr-fallback {\n",
       "  display: none;\n",
       "}\n",
       "\n",
       "div.sk-parallel-item,\n",
       "div.sk-serial,\n",
       "div.sk-item {\n",
       "  /* draw centered vertical line to link estimators */\n",
       "  background-image: linear-gradient(var(--sklearn-color-text-on-default-background), var(--sklearn-color-text-on-default-background));\n",
       "  background-size: 2px 100%;\n",
       "  background-repeat: no-repeat;\n",
       "  background-position: center center;\n",
       "}\n",
       "\n",
       "/* Parallel-specific style estimator block */\n",
       "\n",
       "#sk-container-id-1 div.sk-parallel-item::after {\n",
       "  content: \"\";\n",
       "  width: 100%;\n",
       "  border-bottom: 2px solid var(--sklearn-color-text-on-default-background);\n",
       "  flex-grow: 1;\n",
       "}\n",
       "\n",
       "#sk-container-id-1 div.sk-parallel {\n",
       "  display: flex;\n",
       "  align-items: stretch;\n",
       "  justify-content: center;\n",
       "  background-color: var(--sklearn-color-background);\n",
       "  position: relative;\n",
       "}\n",
       "\n",
       "#sk-container-id-1 div.sk-parallel-item {\n",
       "  display: flex;\n",
       "  flex-direction: column;\n",
       "}\n",
       "\n",
       "#sk-container-id-1 div.sk-parallel-item:first-child::after {\n",
       "  align-self: flex-end;\n",
       "  width: 50%;\n",
       "}\n",
       "\n",
       "#sk-container-id-1 div.sk-parallel-item:last-child::after {\n",
       "  align-self: flex-start;\n",
       "  width: 50%;\n",
       "}\n",
       "\n",
       "#sk-container-id-1 div.sk-parallel-item:only-child::after {\n",
       "  width: 0;\n",
       "}\n",
       "\n",
       "/* Serial-specific style estimator block */\n",
       "\n",
       "#sk-container-id-1 div.sk-serial {\n",
       "  display: flex;\n",
       "  flex-direction: column;\n",
       "  align-items: center;\n",
       "  background-color: var(--sklearn-color-background);\n",
       "  padding-right: 1em;\n",
       "  padding-left: 1em;\n",
       "}\n",
       "\n",
       "\n",
       "/* Toggleable style: style used for estimator/Pipeline/ColumnTransformer box that is\n",
       "clickable and can be expanded/collapsed.\n",
       "- Pipeline and ColumnTransformer use this feature and define the default style\n",
       "- Estimators will overwrite some part of the style using the `sk-estimator` class\n",
       "*/\n",
       "\n",
       "/* Pipeline and ColumnTransformer style (default) */\n",
       "\n",
       "#sk-container-id-1 div.sk-toggleable {\n",
       "  /* Default theme specific background. It is overwritten whether we have a\n",
       "  specific estimator or a Pipeline/ColumnTransformer */\n",
       "  background-color: var(--sklearn-color-background);\n",
       "}\n",
       "\n",
       "/* Toggleable label */\n",
       "#sk-container-id-1 label.sk-toggleable__label {\n",
       "  cursor: pointer;\n",
       "  display: block;\n",
       "  width: 100%;\n",
       "  margin-bottom: 0;\n",
       "  padding: 0.5em;\n",
       "  box-sizing: border-box;\n",
       "  text-align: center;\n",
       "}\n",
       "\n",
       "#sk-container-id-1 label.sk-toggleable__label-arrow:before {\n",
       "  /* Arrow on the left of the label */\n",
       "  content: \"▸\";\n",
       "  float: left;\n",
       "  margin-right: 0.25em;\n",
       "  color: var(--sklearn-color-icon);\n",
       "}\n",
       "\n",
       "#sk-container-id-1 label.sk-toggleable__label-arrow:hover:before {\n",
       "  color: var(--sklearn-color-text);\n",
       "}\n",
       "\n",
       "/* Toggleable content - dropdown */\n",
       "\n",
       "#sk-container-id-1 div.sk-toggleable__content {\n",
       "  max-height: 0;\n",
       "  max-width: 0;\n",
       "  overflow: hidden;\n",
       "  text-align: left;\n",
       "  /* unfitted */\n",
       "  background-color: var(--sklearn-color-unfitted-level-0);\n",
       "}\n",
       "\n",
       "#sk-container-id-1 div.sk-toggleable__content.fitted {\n",
       "  /* fitted */\n",
       "  background-color: var(--sklearn-color-fitted-level-0);\n",
       "}\n",
       "\n",
       "#sk-container-id-1 div.sk-toggleable__content pre {\n",
       "  margin: 0.2em;\n",
       "  border-radius: 0.25em;\n",
       "  color: var(--sklearn-color-text);\n",
       "  /* unfitted */\n",
       "  background-color: var(--sklearn-color-unfitted-level-0);\n",
       "}\n",
       "\n",
       "#sk-container-id-1 div.sk-toggleable__content.fitted pre {\n",
       "  /* unfitted */\n",
       "  background-color: var(--sklearn-color-fitted-level-0);\n",
       "}\n",
       "\n",
       "#sk-container-id-1 input.sk-toggleable__control:checked~div.sk-toggleable__content {\n",
       "  /* Expand drop-down */\n",
       "  max-height: 200px;\n",
       "  max-width: 100%;\n",
       "  overflow: auto;\n",
       "}\n",
       "\n",
       "#sk-container-id-1 input.sk-toggleable__control:checked~label.sk-toggleable__label-arrow:before {\n",
       "  content: \"▾\";\n",
       "}\n",
       "\n",
       "/* Pipeline/ColumnTransformer-specific style */\n",
       "\n",
       "#sk-container-id-1 div.sk-label input.sk-toggleable__control:checked~label.sk-toggleable__label {\n",
       "  color: var(--sklearn-color-text);\n",
       "  background-color: var(--sklearn-color-unfitted-level-2);\n",
       "}\n",
       "\n",
       "#sk-container-id-1 div.sk-label.fitted input.sk-toggleable__control:checked~label.sk-toggleable__label {\n",
       "  background-color: var(--sklearn-color-fitted-level-2);\n",
       "}\n",
       "\n",
       "/* Estimator-specific style */\n",
       "\n",
       "/* Colorize estimator box */\n",
       "#sk-container-id-1 div.sk-estimator input.sk-toggleable__control:checked~label.sk-toggleable__label {\n",
       "  /* unfitted */\n",
       "  background-color: var(--sklearn-color-unfitted-level-2);\n",
       "}\n",
       "\n",
       "#sk-container-id-1 div.sk-estimator.fitted input.sk-toggleable__control:checked~label.sk-toggleable__label {\n",
       "  /* fitted */\n",
       "  background-color: var(--sklearn-color-fitted-level-2);\n",
       "}\n",
       "\n",
       "#sk-container-id-1 div.sk-label label.sk-toggleable__label,\n",
       "#sk-container-id-1 div.sk-label label {\n",
       "  /* The background is the default theme color */\n",
       "  color: var(--sklearn-color-text-on-default-background);\n",
       "}\n",
       "\n",
       "/* On hover, darken the color of the background */\n",
       "#sk-container-id-1 div.sk-label:hover label.sk-toggleable__label {\n",
       "  color: var(--sklearn-color-text);\n",
       "  background-color: var(--sklearn-color-unfitted-level-2);\n",
       "}\n",
       "\n",
       "/* Label box, darken color on hover, fitted */\n",
       "#sk-container-id-1 div.sk-label.fitted:hover label.sk-toggleable__label.fitted {\n",
       "  color: var(--sklearn-color-text);\n",
       "  background-color: var(--sklearn-color-fitted-level-2);\n",
       "}\n",
       "\n",
       "/* Estimator label */\n",
       "\n",
       "#sk-container-id-1 div.sk-label label {\n",
       "  font-family: monospace;\n",
       "  font-weight: bold;\n",
       "  display: inline-block;\n",
       "  line-height: 1.2em;\n",
       "}\n",
       "\n",
       "#sk-container-id-1 div.sk-label-container {\n",
       "  text-align: center;\n",
       "}\n",
       "\n",
       "/* Estimator-specific */\n",
       "#sk-container-id-1 div.sk-estimator {\n",
       "  font-family: monospace;\n",
       "  border: 1px dotted var(--sklearn-color-border-box);\n",
       "  border-radius: 0.25em;\n",
       "  box-sizing: border-box;\n",
       "  margin-bottom: 0.5em;\n",
       "  /* unfitted */\n",
       "  background-color: var(--sklearn-color-unfitted-level-0);\n",
       "}\n",
       "\n",
       "#sk-container-id-1 div.sk-estimator.fitted {\n",
       "  /* fitted */\n",
       "  background-color: var(--sklearn-color-fitted-level-0);\n",
       "}\n",
       "\n",
       "/* on hover */\n",
       "#sk-container-id-1 div.sk-estimator:hover {\n",
       "  /* unfitted */\n",
       "  background-color: var(--sklearn-color-unfitted-level-2);\n",
       "}\n",
       "\n",
       "#sk-container-id-1 div.sk-estimator.fitted:hover {\n",
       "  /* fitted */\n",
       "  background-color: var(--sklearn-color-fitted-level-2);\n",
       "}\n",
       "\n",
       "/* Specification for estimator info (e.g. \"i\" and \"?\") */\n",
       "\n",
       "/* Common style for \"i\" and \"?\" */\n",
       "\n",
       ".sk-estimator-doc-link,\n",
       "a:link.sk-estimator-doc-link,\n",
       "a:visited.sk-estimator-doc-link {\n",
       "  float: right;\n",
       "  font-size: smaller;\n",
       "  line-height: 1em;\n",
       "  font-family: monospace;\n",
       "  background-color: var(--sklearn-color-background);\n",
       "  border-radius: 1em;\n",
       "  height: 1em;\n",
       "  width: 1em;\n",
       "  text-decoration: none !important;\n",
       "  margin-left: 1ex;\n",
       "  /* unfitted */\n",
       "  border: var(--sklearn-color-unfitted-level-1) 1pt solid;\n",
       "  color: var(--sklearn-color-unfitted-level-1);\n",
       "}\n",
       "\n",
       ".sk-estimator-doc-link.fitted,\n",
       "a:link.sk-estimator-doc-link.fitted,\n",
       "a:visited.sk-estimator-doc-link.fitted {\n",
       "  /* fitted */\n",
       "  border: var(--sklearn-color-fitted-level-1) 1pt solid;\n",
       "  color: var(--sklearn-color-fitted-level-1);\n",
       "}\n",
       "\n",
       "/* On hover */\n",
       "div.sk-estimator:hover .sk-estimator-doc-link:hover,\n",
       ".sk-estimator-doc-link:hover,\n",
       "div.sk-label-container:hover .sk-estimator-doc-link:hover,\n",
       ".sk-estimator-doc-link:hover {\n",
       "  /* unfitted */\n",
       "  background-color: var(--sklearn-color-unfitted-level-3);\n",
       "  color: var(--sklearn-color-background);\n",
       "  text-decoration: none;\n",
       "}\n",
       "\n",
       "div.sk-estimator.fitted:hover .sk-estimator-doc-link.fitted:hover,\n",
       ".sk-estimator-doc-link.fitted:hover,\n",
       "div.sk-label-container:hover .sk-estimator-doc-link.fitted:hover,\n",
       ".sk-estimator-doc-link.fitted:hover {\n",
       "  /* fitted */\n",
       "  background-color: var(--sklearn-color-fitted-level-3);\n",
       "  color: var(--sklearn-color-background);\n",
       "  text-decoration: none;\n",
       "}\n",
       "\n",
       "/* Span, style for the box shown on hovering the info icon */\n",
       ".sk-estimator-doc-link span {\n",
       "  display: none;\n",
       "  z-index: 9999;\n",
       "  position: relative;\n",
       "  font-weight: normal;\n",
       "  right: .2ex;\n",
       "  padding: .5ex;\n",
       "  margin: .5ex;\n",
       "  width: min-content;\n",
       "  min-width: 20ex;\n",
       "  max-width: 50ex;\n",
       "  color: var(--sklearn-color-text);\n",
       "  box-shadow: 2pt 2pt 4pt #999;\n",
       "  /* unfitted */\n",
       "  background: var(--sklearn-color-unfitted-level-0);\n",
       "  border: .5pt solid var(--sklearn-color-unfitted-level-3);\n",
       "}\n",
       "\n",
       ".sk-estimator-doc-link.fitted span {\n",
       "  /* fitted */\n",
       "  background: var(--sklearn-color-fitted-level-0);\n",
       "  border: var(--sklearn-color-fitted-level-3);\n",
       "}\n",
       "\n",
       ".sk-estimator-doc-link:hover span {\n",
       "  display: block;\n",
       "}\n",
       "\n",
       "/* \"?\"-specific style due to the `<a>` HTML tag */\n",
       "\n",
       "#sk-container-id-1 a.estimator_doc_link {\n",
       "  float: right;\n",
       "  font-size: 1rem;\n",
       "  line-height: 1em;\n",
       "  font-family: monospace;\n",
       "  background-color: var(--sklearn-color-background);\n",
       "  border-radius: 1rem;\n",
       "  height: 1rem;\n",
       "  width: 1rem;\n",
       "  text-decoration: none;\n",
       "  /* unfitted */\n",
       "  color: var(--sklearn-color-unfitted-level-1);\n",
       "  border: var(--sklearn-color-unfitted-level-1) 1pt solid;\n",
       "}\n",
       "\n",
       "#sk-container-id-1 a.estimator_doc_link.fitted {\n",
       "  /* fitted */\n",
       "  border: var(--sklearn-color-fitted-level-1) 1pt solid;\n",
       "  color: var(--sklearn-color-fitted-level-1);\n",
       "}\n",
       "\n",
       "/* On hover */\n",
       "#sk-container-id-1 a.estimator_doc_link:hover {\n",
       "  /* unfitted */\n",
       "  background-color: var(--sklearn-color-unfitted-level-3);\n",
       "  color: var(--sklearn-color-background);\n",
       "  text-decoration: none;\n",
       "}\n",
       "\n",
       "#sk-container-id-1 a.estimator_doc_link.fitted:hover {\n",
       "  /* fitted */\n",
       "  background-color: var(--sklearn-color-fitted-level-3);\n",
       "}\n",
       "</style><div id=\"sk-container-id-1\" class=\"sk-top-container\"><div class=\"sk-text-repr-fallback\"><pre>SGDClassifier(random_state=42)</pre><b>In a Jupyter environment, please rerun this cell to show the HTML representation or trust the notebook. <br />On GitHub, the HTML representation is unable to render, please try loading this page with nbviewer.org.</b></div><div class=\"sk-container\" hidden><div class=\"sk-item\"><div class=\"sk-estimator fitted sk-toggleable\"><input class=\"sk-toggleable__control sk-hidden--visually\" id=\"sk-estimator-id-1\" type=\"checkbox\" checked><label for=\"sk-estimator-id-1\" class=\"sk-toggleable__label fitted sk-toggleable__label-arrow fitted\">&nbsp;&nbsp;SGDClassifier<a class=\"sk-estimator-doc-link fitted\" rel=\"noreferrer\" target=\"_blank\" href=\"https://scikit-learn.org/1.5/modules/generated/sklearn.linear_model.SGDClassifier.html\">?<span>Documentation for SGDClassifier</span></a><span class=\"sk-estimator-doc-link fitted\">i<span>Fitted</span></span></label><div class=\"sk-toggleable__content fitted\"><pre>SGDClassifier(random_state=42)</pre></div> </div></div></div></div>"
      ],
      "text/plain": [
       "SGDClassifier(random_state=42)"
      ]
     },
     "execution_count": 29,
     "metadata": {},
     "output_type": "execute_result"
    }
   ],
   "source": [
    "from sklearn.linear_model import SGDClassifier\n",
    "sgd_clf = SGDClassifier(random_state=42)\n",
    "sgd_clf.fit(X_train, y_train_1)\n",
    "# for all 1 in y labels, True in fit"
   ]
  },
  {
   "cell_type": "code",
   "execution_count": 31,
   "id": "3cfca7ea-0991-4320-a851-f54bc94238f2",
   "metadata": {},
   "outputs": [
    {
     "data": {
      "text/plain": [
       "array([ True])"
      ]
     },
     "execution_count": 31,
     "metadata": {},
     "output_type": "execute_result"
    }
   ],
   "source": [
    "sgd_clf.predict([some_digit])\n",
    "# shows true as some digit is also 1 "
   ]
  },
  {
   "cell_type": "markdown",
   "id": "98110fd9-33a5-4e09-aa38-5836192e4ddd",
   "metadata": {},
   "source": [
    "cross validation\n",
    "\n",
    "Performance measurement using cross validation\n",
    "\n",
    "manually iterating through the splits"
   ]
  },
  {
   "cell_type": "code",
   "execution_count": 34,
   "id": "1433946f-d222-46c7-bf89-c94f76a3e38f",
   "metadata": {},
   "outputs": [
    {
     "name": "stdout",
     "output_type": "stream",
     "text": [
      "0.9700598802395209\n",
      "0.933933933933934\n",
      "0.954954954954955\n"
     ]
    }
   ],
   "source": [
    "from sklearn.model_selection import StratifiedKFold\n",
    "from sklearn.base import clone\n",
    "skfolds = StratifiedKFold(n_splits=3)\n",
    "for train_index, test_index in skfolds.split(X_train, y_train_1):\n",
    "   clone_clf = clone(sgd_clf)\n",
    "   X_train_folds = X_train[train_index]\n",
    "   y_train_folds = (y_train_1[train_index])\n",
    "   X_test_fold = X_train[test_index]\n",
    "   y_test_fold = (y_train_1[test_index])\n",
    "    \n",
    "   clone_clf.fit(X_train_folds, y_train_folds)\n",
    "   y_pred = clone_clf.predict(X_test_fold)\n",
    "   n_correct = sum(y_pred == y_test_fold)\n",
    "   print(n_correct / len(y_pred)) "
   ]
  },
  {
   "cell_type": "markdown",
   "id": "6420f1dd-45ee-42fb-8b67-aaa2cc797b87",
   "metadata": {},
   "source": [
    "  - `clone_clf = clone(sgd_clf)` creates a new instance of the classifier (`sgd_clf`), ensuring that each fold uses a fresh copy of the classifier. This is important to avoid any carryover of learned parameters from previous folds.\n",
    "  -   `n_correct = sum(y_pred == y_test_fold)` counts the number of correct predictions by comparing the predicted values (`y_pred`) with the actual values (`y_test_fold`).\n",
    "   - `print(n_correct / len(y_pred))` calculates and prints the accuracy for the current fold by dividing the number of correct predictions by the total number of predictions made.\n",
    "   - 3 \n"
   ]
  },
  {
   "cell_type": "code",
   "execution_count": 37,
   "id": "db9e4c04-fc18-4016-844c-fcb23c27290c",
   "metadata": {},
   "outputs": [
    {
     "data": {
      "text/plain": [
       "array([0.97005988, 0.93393393, 0.95495495])"
      ]
     },
     "execution_count": 37,
     "metadata": {},
     "output_type": "execute_result"
    }
   ],
   "source": [
    "# cv using function\n",
    "from sklearn.model_selection import cross_val_score\n",
    "cross_val_score(sgd_clf, X_train, y_train_1, cv=3, scoring=\"accuracy\")"
   ]
  },
  {
   "cell_type": "markdown",
   "id": "6c1242b9-8493-4fa4-9d8a-197ab0d4eea6",
   "metadata": {},
   "source": [
    "\n",
    "BaseEstimator this is imported from sklearn, helps to include cross validation and other methods.\n",
    "\n",
    "Never1Classifier predicts false for all,as in this dataset,max predictons are false.This is just dummy classifier\n"
   ]
  },
  {
   "cell_type": "code",
   "execution_count": 40,
   "id": "94124380-fba5-4787-a6cc-d9d657747716",
   "metadata": {},
   "outputs": [],
   "source": [
    "# This is a format of how classifiers are made\n",
    "from sklearn.base import BaseEstimator\n",
    "class Never1Classifier(BaseEstimator):\n",
    "    def fit(self, X, y=None):\n",
    "        pass\n",
    "        # do nothing, just pass\n",
    "    def predict(self, X):\n",
    "        return np.zeros((len(X), 1), dtype=bool)\n",
    "        # this returns numpy array filled with zeroes (here False)"
   ]
  },
  {
   "cell_type": "code",
   "execution_count": 42,
   "id": "f6a15fae-3a67-4a9a-97ef-b7565c1a4687",
   "metadata": {},
   "outputs": [
    {
     "data": {
      "text/plain": [
       "array([0.89221557, 0.8978979 , 0.9039039 ])"
      ]
     },
     "execution_count": 42,
     "metadata": {},
     "output_type": "execute_result"
    }
   ],
   "source": [
    "never_1_clf = Never1Classifier()\n",
    "cross_val_score(never_1_clf, X_train, y_train_1, cv=3, scoring=\"accuracy\")"
   ]
  },
  {
   "cell_type": "code",
   "execution_count": 44,
   "id": "fb8c628e-09d5-4b11-be26-901e9be6cc45",
   "metadata": {},
   "outputs": [
    {
     "data": {
      "text/plain": [
       "array([[False],\n",
       "       [False],\n",
       "       [False],\n",
       "       ...,\n",
       "       [False],\n",
       "       [False],\n",
       "       [False]])"
      ]
     },
     "execution_count": 44,
     "metadata": {},
     "output_type": "execute_result"
    }
   ],
   "source": [
    "np.zeros((len(X), 1), dtype=bool)"
   ]
  },
  {
   "cell_type": "markdown",
   "id": "b673b73c-1446-4528-b7b5-b3985e7ccf2c",
   "metadata": {},
   "source": [
    "prediction"
   ]
  },
  {
   "cell_type": "code",
   "execution_count": 47,
   "id": "76af5ab9-e3cc-42e5-81bd-13cf9a86883e",
   "metadata": {},
   "outputs": [],
   "source": [
    "# Instead of evaluating on the training set (which might lead to overfitting), cross_val_predict() ensures that each prediction is made on data not used in training.\n",
    "from sklearn.model_selection import cross_val_predict\n",
    "y_train_pred = cross_val_predict(sgd_clf, X_train, y_train_1, cv=3)"
   ]
  },
  {
   "cell_type": "markdown",
   "id": "47cebfe3-c71f-4c95-a909-7f21fcd51c3f",
   "metadata": {},
   "source": [
    "confusion matrix"
   ]
  },
  {
   "cell_type": "code",
   "execution_count": 50,
   "id": "28c3a74a-e5ab-46b4-abcb-520debd4a371",
   "metadata": {},
   "outputs": [
    {
     "data": {
      "text/plain": [
       "array([[854,  44],\n",
       "       [  3,  99]], dtype=int64)"
      ]
     },
     "execution_count": 50,
     "metadata": {},
     "output_type": "execute_result"
    }
   ],
   "source": [
    "# used to evaluate the performance of a classification model.\n",
    "from sklearn.metrics import confusion_matrix\n",
    "confusion_matrix(y_train_1, y_train_pred)\n",
    "# main diagonal has true negatives and true positives.\n",
    "# For best prediction only this should have non zero values"
   ]
  },
  {
   "cell_type": "markdown",
   "id": "927e26bd-a161-4ea3-928e-1c96c1e57a4a",
   "metadata": {},
   "source": [
    "\n",
    " precision =TP/(TP+FP)\n",
    " \n",
    " recall =TP/(TP+FN)\n"
   ]
  },
  {
   "cell_type": "code",
   "execution_count": 53,
   "id": "52a4ee3c-058e-43bc-b9f1-dc64c08c9638",
   "metadata": {},
   "outputs": [
    {
     "name": "stdout",
     "output_type": "stream",
     "text": [
      "0.6923076923076923\n",
      "0.9705882352941176\n"
     ]
    }
   ],
   "source": [
    "from sklearn.metrics import precision_score, recall_score\n",
    "print(precision_score(y_train_1, y_train_pred))   \n",
    "print(recall_score(y_train_1, y_train_pred))"
   ]
  },
  {
   "cell_type": "markdown",
   "id": "1d86dfca-9242-4d0f-b1e6-0b7cc767deb0",
   "metadata": {},
   "source": [
    "F1 = 2/(1/precision + 1/recall) \n",
    "\n",
    "= 2 × (precision ×recall)/(precision +recall) \n",
    "\n",
    "\n",
    "=TP/((TP)+(FN +FP)/2)"
   ]
  },
  {
   "cell_type": "code",
   "execution_count": 56,
   "id": "e0cf8c70-9abe-4ca2-8a13-546673a50915",
   "metadata": {},
   "outputs": [
    {
     "data": {
      "text/plain": [
       "0.8081632653061225"
      ]
     },
     "execution_count": 56,
     "metadata": {},
     "output_type": "execute_result"
    }
   ],
   "source": [
    "from sklearn.metrics import f1_score\n",
    "f1_score(y_train_1, y_train_pred)"
   ]
  },
  {
   "cell_type": "markdown",
   "id": "8e30f459-3479-4682-befa-4034ba6cebd5",
   "metadata": {},
   "source": [
    " Instead of calling the classifier’s\n",
    " predict() method, you can call its decision_function() method, which returns a\n",
    " score for each instance, and then make predictions based on those scores using any\n",
    " threshold you want"
   ]
  },
  {
   "cell_type": "code",
   "execution_count": 111,
   "id": "789b6564-d3b9-4076-93ed-afbf6870a794",
   "metadata": {},
   "outputs": [
    {
     "data": {
      "text/plain": [
       "array([5011.79625826])"
      ]
     },
     "execution_count": 111,
     "metadata": {},
     "output_type": "execute_result"
    }
   ],
   "source": [
    "y_scores = sgd_clf.decision_function([some_digit])\n",
    "y_scores\n",
    "# here y_scores is the score of some_digit, which was 1000th value"
   ]
  },
  {
   "cell_type": "code",
   "execution_count": 113,
   "id": "ab7a7ace-970a-4d1d-ae75-e70f1577622d",
   "metadata": {},
   "outputs": [
    {
     "data": {
      "text/plain": [
       "array([ True])"
      ]
     },
     "execution_count": 113,
     "metadata": {},
     "output_type": "execute_result"
    }
   ],
   "source": [
    "threshold = 0\n",
    "y_some_digit_pred = (y_scores > threshold)\n",
    "y_some_digit_pred"
   ]
  },
  {
   "cell_type": "code",
   "execution_count": 115,
   "id": "0010abe3-05b5-4625-a023-0c638303a4c2",
   "metadata": {},
   "outputs": [
    {
     "data": {
      "text/plain": [
       "array([False])"
      ]
     },
     "execution_count": 115,
     "metadata": {},
     "output_type": "execute_result"
    }
   ],
   "source": [
    "threshold = 200000\n",
    "y_some_digit_pred = (y_scores > threshold)\n",
    "y_some_digit_pred\n",
    "# all false, as no value of y_scores is more than this threshold"
   ]
  },
  {
   "cell_type": "code",
   "execution_count": 117,
   "id": "19edb166-709a-474c-be2e-c47388ea43ec",
   "metadata": {},
   "outputs": [],
   "source": [
    "y_scores = cross_val_predict(sgd_clf, X_train, y_train_1, cv=3,method=\"decision_function\")"
   ]
  },
  {
   "cell_type": "code",
   "execution_count": 119,
   "id": "779ba4a2-2bf0-4ce5-9dc9-950a48d1e9e2",
   "metadata": {},
   "outputs": [],
   "source": [
    "from sklearn.metrics import precision_recall_curve\n",
    "precisions, recalls, thresholds = precision_recall_curve(y_train_1, y_scores)"
   ]
  },
  {
   "cell_type": "code",
   "execution_count": 121,
   "id": "e60bf6c1-91e5-4e2d-a5c7-b415cbe10fd1",
   "metadata": {
    "scrolled": true
   },
   "outputs": [
    {
     "data": {
      "text/plain": [
       "array([0.102     , 0.1021021 , 0.10220441, ..., 1.        , 1.        ,\n",
       "       1.        ])"
      ]
     },
     "execution_count": 121,
     "metadata": {},
     "output_type": "execute_result"
    }
   ],
   "source": [
    "precisions"
   ]
  },
  {
   "cell_type": "code",
   "execution_count": 123,
   "id": "f88a092c-fc91-49b9-8733-56f0e309901c",
   "metadata": {
    "scrolled": true
   },
   "outputs": [
    {
     "data": {
      "text/plain": [
       "array([1.        , 1.        , 1.        , ..., 0.01960784, 0.00980392,\n",
       "       0.        ])"
      ]
     },
     "execution_count": 123,
     "metadata": {},
     "output_type": "execute_result"
    }
   ],
   "source": [
    "recalls"
   ]
  },
  {
   "cell_type": "code",
   "execution_count": 125,
   "id": "7511d8d5-4287-486c-953c-a2a5ac6e53fc",
   "metadata": {
    "scrolled": true
   },
   "outputs": [
    {
     "data": {
      "text/plain": [
       "array([-12186.08055024, -11601.3148179 , -11372.25847897, -11190.4170957 ,\n",
       "       -11086.83722863, -11038.19797379, -10973.23505168, -10952.39788799,\n",
       "       -10845.23748745, -10833.11472857, -10588.10739111, -10461.77548273,\n",
       "       -10404.50305438, -10274.57721017, -10239.73758316, -10153.23137454,\n",
       "       -10080.91415936, -10069.269862  ,  -9975.58904746,  -9876.69285656,\n",
       "        -9778.16242804,  -9666.13967593,  -9640.269433  ,  -9631.07656667,\n",
       "        -9620.04512706,  -9440.91157665,  -9431.97901747,  -9426.87469794,\n",
       "        -9354.50654031,  -9333.84055515,  -9333.72086651,  -9304.37102921,\n",
       "        -9284.19907693,  -9263.53647297,  -9243.1376073 ,  -9197.17327562,\n",
       "        -9146.13712377,  -9122.40462942,  -9035.37882811,  -9026.49399187,\n",
       "        -9024.18729322,  -9020.67024198,  -9000.02597721,  -8960.98375013,\n",
       "        -8938.37810333,  -8838.72872152,  -8792.68715685,  -8789.62286807,\n",
       "        -8748.30613433,  -8697.55876397,  -8695.68092521,  -8678.08275653,\n",
       "        -8668.88324768,  -8625.37698954,  -8478.29112817,  -8464.07242652,\n",
       "        -8446.42252487,  -8417.61821035,  -8409.65105953,  -8390.6524691 ,\n",
       "        -8384.30908691,  -8356.33243478,  -8348.36528396,  -8340.29267791,\n",
       "        -8310.3681031 ,  -8187.31702195,  -8160.21795295,  -8158.99223744,\n",
       "        -8154.62305499,  -8154.08937539,  -8149.7993711 ,  -8080.6104218 ,\n",
       "        -8061.83261523,  -8033.96925527,  -8032.74353976,  -8018.92802029,\n",
       "        -8017.42209587,  -8010.0678028 ,  -7967.1677599 ,  -7959.81346683,\n",
       "        -7946.94345396,  -7931.00915231,  -7905.26912657,  -7903.43055331,\n",
       "        -7888.72196717,  -7868.06992839,  -7825.59761833,  -7825.39444528,\n",
       "        -7824.1183654 ,  -7817.63046751,  -7812.11474771,  -7779.45556951,\n",
       "        -7760.63469623,  -7757.57040745,  -7742.24896355,  -7718.96036884,\n",
       "        -7701.80035168,  -7672.90289931,  -7647.86886917,  -7638.06314508,\n",
       "        -7594.95680789,  -7558.51096917,  -7557.16592133,  -7552.3133504 ,\n",
       "        -7552.26305928,  -7543.07019295,  -7536.32875763,  -7526.79175275,\n",
       "        -7503.18427492,  -7500.63211516,  -7475.9311574 ,  -7472.59155104,\n",
       "        -7471.31776009,  -7450.52867183,  -7440.01832073,  -7399.66147811,\n",
       "        -7397.21004709,  -7389.85575402,  -7386.79146524,  -7335.92427152,\n",
       "        -7312.02281904,  -7297.31423291,  -7263.60705634,  -7262.99419858,\n",
       "        -7262.00517711,  -7235.11181804,  -7205.12473555,  -7199.86984975,\n",
       "        -7194.35412994,  -7192.51555668,  -7189.90052444,  -7183.44176821,\n",
       "        -7164.93695767,  -7159.42123787,  -7133.06835437,  -7123.87548804,\n",
       "        -7121.42405701,  -7109.1669019 ,  -7090.71248237,  -7077.91115636,\n",
       "        -7076.87229045,  -7066.72281638,  -7060.7511392 ,  -7020.30252732,\n",
       "        -7004.36822567,  -6986.37192247,  -6955.95246297,  -6941.24387683,\n",
       "        -6934.50244152,  -6917.24874367,  -6902.48587229,  -6895.13221086,\n",
       "        -6887.47573157,  -6871.37809268,  -6861.95413392,  -6858.76393421,\n",
       "        -6851.2771622 ,  -6842.51170732,  -6816.83375242,  -6777.00146557,\n",
       "        -6775.15942504,  -6766.57941646,  -6756.6775436 ,  -6754.12538384,\n",
       "        -6724.90508907,  -6707.74507191,  -6682.00504617,  -6681.96548107,\n",
       "        -6676.89074404,  -6666.07074452,  -6663.05055212,  -6661.60959235,\n",
       "        -6648.84879352,  -6609.9283571 ,  -6585.78637852,  -6579.65780096,\n",
       "        -6564.94921483,  -6555.75634849,  -6551.40633732,  -6549.62777093,\n",
       "        -6537.19180379,  -6509.75608632,  -6494.20021073,  -6492.5290079 ,\n",
       "        -6490.61488808,  -6488.95485312,  -6476.697698  ,  -6474.66388955,\n",
       "        -6468.11768942,  -6438.29561289,  -6436.38149307,  -6434.46737325,\n",
       "        -6432.57193959,  -6412.54307842,  -6411.12191814,  -6409.89620263,\n",
       "        -6408.05762936,  -6400.09047854,  -6398.25190527,  -6395.18761649,\n",
       "        -6345.64881748,  -6341.86899175,  -6323.04317069,  -6320.25822375,\n",
       "        -6302.3931054 ,  -6258.4556084 ,  -6255.81618968,  -6233.48479174,\n",
       "        -6233.39316898,  -6231.55459572,  -6218.80987309,  -6211.33028978,\n",
       "        -6208.266001  ,  -6174.55882444,  -6164.75310034,  -6162.66235825,\n",
       "        -6158.62452279,  -6134.72307031,  -6119.13100977,  -6117.36152242,\n",
       "        -6107.75732906,  -6101.62875151,  -6099.29340135,  -6096.9442443 ,\n",
       "        -6087.75990809,  -6080.79158781,  -6068.23244694,  -6053.62076803,\n",
       "        -6020.73152775,  -6012.10019228,  -5994.99150201,  -5990.87856467,\n",
       "        -5973.16449569,  -5903.68535559,  -5885.28996374,  -5883.45139047,\n",
       "        -5865.33574561,  -5852.01530577,  -5843.61563635,  -5833.43374854,\n",
       "        -5833.1970545 ,  -5823.8735822 ,  -5820.67294971,  -5816.6498951 ,\n",
       "        -5814.18544786,  -5807.72669163,  -5800.71559345,  -5797.57721756,\n",
       "        -5794.58701589,  -5779.87842975,  -5770.68556342,  -5753.52554626,\n",
       "        -5737.72775735,  -5716.14122316,  -5689.17548191,  -5660.37116739,\n",
       "        -5652.25520243,  -5650.31628539,  -5643.29784603,  -5634.26295293,\n",
       "        -5628.62292738,  -5608.42792802,  -5564.81893325,  -5564.18089331,\n",
       "        -5550.29912197,  -5545.15390932,  -5537.79961625,  -5534.83105601,\n",
       "        -5518.92802029,  -5513.39194352,  -5508.99530173,  -5476.94610481,\n",
       "        -5476.51384068,  -5449.33370388,  -5429.5544657 ,  -5416.5106001 ,\n",
       "        -5415.84092286,  -5384.89166981,  -5372.13087098,  -5360.6884927 ,\n",
       "        -5355.54183251,  -5353.62771268,  -5326.19199521,  -5314.10653541,\n",
       "        -5303.07509581,  -5288.97936743,  -5285.9954789 ,  -5281.52919932,\n",
       "        -5265.57820078,  -5262.62648393,  -5260.78791066,  -5257.92172149,\n",
       "        -5243.24680284,  -5217.88786776,  -5215.17304542,  -5213.2589256 ,\n",
       "        -5208.69500143,  -5207.46928592,  -5204.96440636,  -5197.94596701,\n",
       "        -5183.9090883 ,  -5175.22992101,  -5165.79495853,  -5160.0057099 ,\n",
       "        -5149.3948961 ,  -5148.81689153,  -5142.43649211,  -5140.16810148,\n",
       "        -5139.70676175,  -5136.0560927 ,  -5118.19097434,  -5113.87173684,\n",
       "        -5093.47774335,  -5089.47917698,  -5087.3491658 ,  -5086.73630804,\n",
       "        -5080.54661781,  -5073.86629517,  -5072.64057966,  -5070.97601869,\n",
       "        -5070.80200639,  -5049.9648427 ,  -5048.12626943,  -5026.3132228 ,\n",
       "        -5024.83767471,  -5021.20890327,  -5017.38066362,  -5007.30225908,\n",
       "        -4999.09764897,  -4980.09905855,  -4975.27002749,  -4970.85642036,\n",
       "        -4950.68188627,  -4935.79460084,  -4932.56522272,  -4931.68329585,\n",
       "        -4910.82799342,  -4899.20183479,  -4897.36326153,  -4890.4107153 ,\n",
       "        -4877.13895559,  -4852.62464536,  -4849.06273149,  -4841.6812958 ,\n",
       "        -4827.37976415,  -4820.8643617 ,  -4816.30761062,  -4814.48396228,\n",
       "        -4806.82748299,  -4796.4700022 ,  -4795.08598301,  -4793.70196382,\n",
       "        -4785.39784867,  -4785.13412498,  -4784.47516921,  -4776.83960575,\n",
       "        -4771.73528622,  -4756.42232763,  -4756.40597771,  -4739.26387561,\n",
       "        -4733.11738299,  -4722.19430558,  -4707.37735725,  -4706.01717226,\n",
       "        -4700.04999851,  -4697.72265303,  -4695.17049326,  -4694.97526148,\n",
       "        -4690.36186417,  -4678.57304274,  -4677.34732722,  -4671.90827495,\n",
       "        -4665.18261602,  -4658.06808303,  -4654.67159026,  -4652.22015924,\n",
       "        -4634.44728432,  -4630.84903893,  -4627.70584901,  -4623.92894297,\n",
       "        -4619.88178019,  -4617.90012492,  -4617.90012492,  -4612.38440512,\n",
       "        -4612.38440512,  -4608.70725858,  -4605.01401401,  -4601.37862189,\n",
       "        -4589.255863  ,  -4572.66682453,  -4562.5707588 ,  -4560.54406565,\n",
       "        -4558.45292262,  -4540.06718994,  -4529.28010852,  -4517.15734964,\n",
       "        -4516.89812547,  -4516.43678574,  -4514.94002196,  -4509.50087034,\n",
       "        -4507.58572889,  -4499.93027122,  -4476.96083334,  -4441.23059662,\n",
       "        -4438.67843686,  -4438.04039692,  -4434.3183137 ,  -4431.6599975 ,\n",
       "        -4418.10849656,  -4413.20563451,  -4407.07705695,  -4385.08308179,\n",
       "        -4379.97876226,  -4376.43416917,  -4371.04620308,  -4354.45716461,\n",
       "        -4353.81912467,  -4352.19984166,  -4350.69414343,  -4344.24852555,\n",
       "        -4325.74536725,  -4321.88982891,  -4315.76125135,  -4308.40695828,\n",
       "        -4304.68184941,  -4299.21409195,  -4299.21409195,  -4285.73122132,\n",
       "        -4276.07878611,  -4274.70217194,  -4270.40977743,  -4270.08136961,\n",
       "        -4263.05548436,  -4262.57941306,  -4248.85974201,  -4211.53621776,\n",
       "        -4208.98405799,  -4196.25398899,  -4191.19227569,  -4186.11753865,\n",
       "        -4184.73351946,  -4183.34950027,  -4180.91030057,  -4167.2026097 ,\n",
       "        -4166.83681671,  -4161.66653293,  -4149.67169993,  -4147.36500128,\n",
       "        -4138.79966445,  -4131.14318515,  -4126.14337367,  -4117.83925852,\n",
       "        -4114.14854068,  -4101.15530791,  -4083.9282295 ,  -4082.87530418,\n",
       "        -4071.16743067,  -4070.52939073,  -4056.94241409,  -4051.38819249,\n",
       "        -4049.16812762,  -4047.71561948,  -4045.00779308,  -4042.45563331,\n",
       "        -4041.81383455,  -4038.9501646 ,  -4036.9109725 ,  -4036.29811475,\n",
       "        -4036.0752339 ,  -4029.72336998,  -4023.42810188,  -4013.57647941,\n",
       "        -4003.81665369,  -3986.81877504,  -3984.51207639,  -3974.82394205,\n",
       "        -3974.82339953,  -3969.28786528,  -3967.44250636,  -3951.75695552,\n",
       "        -3950.49802895,  -3946.82088241,  -3941.14614171,  -3935.14872522,\n",
       "        -3928.24648382,  -3927.82229198,  -3917.40371014,  -3913.57156517,\n",
       "        -3904.00096605,  -3895.93484812,  -3890.60212728,  -3883.58368793,\n",
       "        -3883.47867539,  -3852.44078803,  -3849.33953533,  -3842.63506394,\n",
       "        -3834.11532422,  -3833.81657251,  -3821.19781176,  -3819.81379257,\n",
       "        -3803.19065532,  -3792.99358573,  -3779.5107151 ,  -3765.37570436,\n",
       "        -3764.2702189 ,  -3755.68757002,  -3740.66274108,  -3739.07933972,\n",
       "        -3721.90208606,  -3713.93493524,  -3711.95094372,  -3710.67486383,\n",
       "        -3708.6309175 ,  -3702.3803446 ,  -3699.40412289,  -3698.00063359,\n",
       "        -3693.7106293 ,  -3693.09777155,  -3692.0226872 ,  -3690.63866801,\n",
       "        -3675.93775439,  -3669.20226765,  -3661.57426498,  -3650.06106941,\n",
       "        -3629.00575135,  -3627.43512492,  -3597.49196165,  -3595.8276744 ,\n",
       "        -3594.55159452,  -3587.68623756,  -3585.91454917,  -3570.22899833,\n",
       "        -3549.07619895,  -3532.66172021,  -3519.9429677 ,  -3493.74128379,\n",
       "        -3493.10324385,  -3490.2418544 ,  -3485.80382763,  -3479.82327256,\n",
       "        -3475.23812549,  -3466.42755895,  -3464.1208603 ,  -3459.9251669 ,\n",
       "        -3454.82084737,  -3452.85753131,  -3440.13119431,  -3436.92322966,\n",
       "        -3436.44047646,  -3428.66120978,  -3425.47101007,  -3420.37607025,\n",
       "        -3390.95889798,  -3386.61578556,  -3374.15961283,  -3357.0900428 ,\n",
       "        -3353.37249671,  -3350.82033694,  -3346.01788927,  -3346.01788927,\n",
       "        -3331.25501789,  -3328.488939  ,  -3321.47049964,  -3313.1759804 ,\n",
       "        -3298.50106175,  -3294.80917917,  -3285.74026293,  -3285.58238456,\n",
       "        -3281.89166672,  -3261.03305377,  -3256.39042563,  -3255.59530207,\n",
       "        -3242.99158686,  -3235.29302803,  -3231.14429635,  -3230.39016598,\n",
       "        -3217.46998921,  -3216.38142498,  -3213.00370962,  -3210.45154986,\n",
       "        -3202.19870922,  -3188.12015191,  -3188.10298084,  -3186.87726533,\n",
       "        -3169.32477246,  -3161.32247437,  -3159.29866632,  -3158.13227467,\n",
       "        -3150.10579998,  -3145.7964462 ,  -3127.8041967 ,  -3117.01148117,\n",
       "        -3109.64123913,  -3107.72711931,  -3107.04390883,  -3103.35319098,\n",
       "        -3103.26083972,  -3096.24240036,  -3095.51041556,  -3091.88431319,\n",
       "        -3089.43288217,  -3089.05165934,  -3078.90218526,  -3070.43429174,\n",
       "        -3068.75271119,  -3064.97844324,  -3059.06457685,  -3057.32196394,\n",
       "        -3055.373859  ,  -3046.53283927,  -3021.23471894,  -3019.38936002,\n",
       "        -3017.5440011 ,  -3015.21132782,  -3006.93318729,  -3001.85845026,\n",
       "        -2996.2785033 ,  -2995.43208964,  -2989.86361726,  -2973.25538696,\n",
       "        -2958.42577304,  -2957.66846469,  -2951.11107989,  -2948.85517392,\n",
       "        -2931.62809551,  -2928.96677283,  -2925.73739471,  -2925.24769609,\n",
       "        -2892.70765909,  -2888.36887653,  -2879.60342165,  -2868.53126812,\n",
       "        -2864.51408582,  -2860.22715297,  -2849.32094308,  -2838.47426408,\n",
       "        -2821.93595533,  -2795.17825096,  -2794.71691123,  -2793.17342824,\n",
       "        -2783.60282913,  -2779.49270012,  -2773.95662335,  -2760.11643143,\n",
       "        -2759.10255184,  -2756.16711165,  -2752.97691194,  -2749.14867229,\n",
       "        -2744.68239271,  -2741.94253468,  -2739.57807318,  -2735.81395712,\n",
       "        -2735.20109936,  -2733.35872706,  -2662.88388419,  -2657.69901125,\n",
       "        -2652.16293448,  -2646.42424175,  -2638.36957396,  -2632.2409964 ,\n",
       "        -2626.32790957,  -2625.49956109,  -2609.71967927,  -2606.50097066,\n",
       "        -2594.03412843,  -2587.72456715,  -2569.58312271,  -2554.5464902 ,\n",
       "        -2553.27041032,  -2511.79781413,  -2487.55229636,  -2486.27621648,\n",
       "        -2472.87737771,  -2470.44654889,  -2468.60797563,  -2463.01364494,\n",
       "        -2452.86417087,  -2447.15795418,  -2440.40799814,  -2440.33734071,\n",
       "        -2433.48790219,  -2429.38507926,  -2429.38507926,  -2427.54650599,\n",
       "        -2427.02914596,  -2426.300462  ,  -2409.07338358,  -2396.31258476,\n",
       "        -2396.31258476,  -2382.91374599,  -2379.72354628,  -2379.13074329,\n",
       "        -2370.7909871 ,  -2358.66822822,  -2355.98282745,  -2353.56390869,\n",
       "        -2351.01174892,  -2329.68646281,  -2311.69421331,  -2299.45923505,\n",
       "        -2282.10343526,  -2280.78445136,  -2225.88502343,  -2222.19430558,\n",
       "        -2198.66597932,  -2187.30626575,  -2162.1519263 ,  -2152.53200626,\n",
       "        -2144.28680794,  -2140.53717327,  -2139.61449381,  -2135.99228871,\n",
       "        -2131.77171839,  -2130.24992923,  -2126.69698135,  -2123.56905916,\n",
       "        -2107.91853129,  -2092.31331362,  -2068.36005493,  -2064.73471461,\n",
       "        -2051.77101645,  -2048.26922715,  -2037.76897336,  -2037.0960978 ,\n",
       "        -2006.51322782,  -1993.7093818 ,  -1979.5296073 ,  -1977.12034332,\n",
       "        -1961.99869754,  -1959.25522497,  -1950.46520427,  -1936.62501235,\n",
       "        -1934.8088704 ,  -1932.45754743,  -1928.62930778,  -1925.43910808,\n",
       "        -1924.63017936,  -1923.52498825,  -1903.10771013,  -1896.02711606,\n",
       "        -1894.36025852,  -1871.84375301,  -1858.19725816,  -1825.90347701,\n",
       "        -1814.07589252,  -1791.4507204 ,  -1779.30816423,  -1778.68992158,\n",
       "        -1767.49870309,  -1715.52396739,  -1711.0576878 ,  -1708.26184572,\n",
       "        -1701.48708868,  -1697.65884903,  -1693.9557724 ,  -1692.5545295 ,\n",
       "        -1682.34589044,  -1670.43198781,  -1640.44490532,  -1634.44748883,\n",
       "        -1618.30059825,  -1603.99906661,  -1594.93441848,  -1562.39438148,\n",
       "        -1554.83706186,  -1553.71303597,  -1543.25318324,  -1543.1927645 ,\n",
       "        -1490.04815315,  -1480.36001881,  -1468.60251011,  -1453.60231444,\n",
       "        -1447.60489794,  -1433.30336629,  -1428.22862926,  -1413.46575788,\n",
       "        -1409.90283551,  -1400.08690569,  -1395.47350839,  -1388.2094775 ,\n",
       "        -1378.00083844,  -1374.65688168,  -1360.87302859,  -1355.79829156,\n",
       "        -1342.8807791 ,  -1323.96585015,  -1321.95111468,  -1311.97101715,\n",
       "        -1265.06776883,  -1238.60245991,  -1237.2339808 ,  -1236.31130134,\n",
       "        -1235.07989159,  -1232.62058349,  -1227.08450672,  -1218.31905184,\n",
       "        -1211.63671866,  -1207.70823804,  -1195.52141523,  -1187.87062963,\n",
       "        -1186.58885605,  -1167.57168148,  -1145.42737441,  -1129.74182357,\n",
       "        -1116.40446251,  -1110.36555489,  -1092.15894474,  -1075.30373536,\n",
       "        -1068.38363941,  -1042.39182932,  -1034.52082725,  -1002.41205793,\n",
       "         -976.03567542,   -958.17055706,   -949.35798892,   -869.54621553,\n",
       "         -857.55138253,   -838.63645358,   -836.79109466,   -739.96089714,\n",
       "         -694.99763059,   -663.78869569,   -662.75806424,   -644.87376674,\n",
       "         -636.56965159,   -625.75174765,   -607.96658829,   -595.10181641,\n",
       "         -577.9795058 ,   -563.23321311,   -560.03363369,   -539.61635557,\n",
       "         -535.04175635,   -524.30339698,   -507.46315734,   -506.47184756,\n",
       "         -504.16514891,   -463.05156262,   -441.99624455,   -428.5054331 ,\n",
       "         -407.56734316,   -396.05736878,   -392.22912913,   -391.13691492,\n",
       "         -387.95589498,   -348.73299861,   -311.78648126,   -280.70578773,\n",
       "         -265.6525082 ,   -166.0031264 ,   -118.91134022,   -100.95422439,\n",
       "          -85.96995731,    -56.20427052,    -51.49698709,    -50.20685402,\n",
       "          -43.22128124,     14.20231348,     36.52501533,     46.21314967,\n",
       "           78.50693081,    112.64607087,    129.68754285,    129.9089086 ,\n",
       "          133.40635875,    139.40377525,    156.47334528,    166.05581951,\n",
       "          182.6146756 ,    261.12377076,    275.79868941,    283.45516871,\n",
       "          287.49382876,    318.66909736,    353.63956225,    405.59679979,\n",
       "          415.50062277,    418.51431225,    444.81067689,    521.52501451,\n",
       "          544.46005869,    644.1094405 ,    692.51232835,    729.89665145,\n",
       "          878.74643394,    892.30395671,    965.8468874 ,    982.74694437,\n",
       "         1005.33844954,   1103.60381215,   1157.58056063,   1214.993483  ,\n",
       "         1303.68103484,   1333.66891209,   1377.69366804,   1383.63702861,\n",
       "         1417.89018434,   1419.80430416,   1425.6189441 ,   1475.90497473,\n",
       "         1484.32454873,   1580.62909357,   1588.47186899,   1597.81744778,\n",
       "         1627.16728508,   1634.47469888,   1679.35579591,   1701.27619426,\n",
       "         1703.73207804,   1708.19835763,   1758.88482329,   1758.88482329,\n",
       "         1761.01292823,   1835.28862485,   1839.63458554,   1846.65302489,\n",
       "         1936.61665661,   1978.28789984,   1999.7826108 ,   2018.73651172,\n",
       "         2048.76654175,   2096.40691236,   2174.60555472,   2212.39956252,\n",
       "         2254.99858732,   2259.72117698,   2266.48330627,   2281.79626486,\n",
       "         2397.20041669,   2434.86692785,   2438.54407438,   2452.09984463,\n",
       "         2457.54266481,   2471.93216737,   2505.11024431,   2520.05415589,\n",
       "         2569.6956341 ,   2604.62852618,   2626.69140539,   2633.99431246,\n",
       "         2637.55841632,   2645.4790314 ,   2693.84186345,   2708.2014869 ,\n",
       "         2717.57754477,   2718.75420891,   2740.89851597,   2745.01326224,\n",
       "         2804.42015454,   2847.92933347,   2859.001487  ,   2861.30818565,\n",
       "         2871.83450767,   2885.29785164,   2891.75660787,   2931.28170998,\n",
       "         3062.11911307,   3261.61204031,   3295.00369164,   3381.77712366,\n",
       "         3454.59107918,   3464.27921352,   3472.58332867,   3520.23179092,\n",
       "         3569.46467209,   3571.91302617,   3578.29342558,   3636.06812905,\n",
       "         3640.35813334,   3654.35118252,   3776.60621112,   3783.06496735,\n",
       "         3842.11645286,   3884.5525974 ,   3972.6021093 ,   3981.71990327,\n",
       "         4061.28966114,   4159.05684777,   4169.86723428,   4194.64000888,\n",
       "         4206.63869962,   4226.87378816,   4256.28017783,   4256.28017783,\n",
       "         4389.27031082,   4435.39934638,   4548.11413636,   4653.15169922,\n",
       "         4670.61780509,   4717.27792177,   4753.56299746,   5139.40377525,\n",
       "         5208.66113021,   5211.83411295,   5224.7516254 ,   5590.13269202,\n",
       "         5788.9701159 ,   5977.96164481,   6149.27644548,   6364.51085749])"
      ]
     },
     "execution_count": 125,
     "metadata": {},
     "output_type": "execute_result"
    }
   ],
   "source": [
    "thresholds"
   ]
  },
  {
   "cell_type": "code",
   "execution_count": 649,
   "id": "29f5ff3e-4af2-4428-be8c-f0d953145c8e",
   "metadata": {
    "scrolled": true
   },
   "outputs": [
    {
     "data": {
      "image/png": "[encoded data removed]",
      "text/plain": [
       "<Figure size 640x480 with 1 Axes>"
      ]
     },
     "metadata": {},
     "output_type": "display_data"
    }
   ],
   "source": [
    "def plot_precision_recall_vs_threshold(precisions, recalls, thresholds):\n",
    " plt.plot(thresholds, precisions[:-1], \"b--\", label=\"Precision\")\n",
    " plt.plot(thresholds, recalls[:-1], \"g-\", label=\"Recall\")\n",
    " plt.xlabel(\"Threshold\")\n",
    " plt.legend(loc=\"upper left\")\n",
    " plt.ylim([0, 1])\n",
    "    \n",
    "plot_precision_recall_vs_threshold(precisions, recalls, thresholds)\n",
    "plt.show()\n"
   ]
  },
  {
   "cell_type": "code",
   "execution_count": 127,
   "id": "cfeb0a16-bbee-4e19-b0f7-ca3bb2ed5326",
   "metadata": {},
   "outputs": [
    {
     "name": "stdout",
     "output_type": "stream",
     "text": [
      "Threshold for 90% precision: (1703.7320780400523, 908)\n"
     ]
    }
   ],
   "source": [
    "import numpy as np\n",
    "\n",
    "# Assuming precisions, recalls, and thresholds are already defined\n",
    "# Example: precisions, recalls, thresholds = precision_recall_curve(y_true, y_scores)\n",
    "\n",
    "target_precision = 0.9\n",
    "threshold_for_90_precision = None\n",
    "\n",
    "# Iterate through the precision values to find the corresponding threshold\n",
    "for i in range(len(precisions)):\n",
    "    if precisions[i] >= target_precision:\n",
    "        threshold_for_90_precision = thresholds[i]\n",
    "        break\n",
    "\n",
    "if threshold_for_90_precision is not None:\n",
    "    print(f'Threshold for 90% precision: {threshold_for_90_precision,i}')\n",
    "else:\n",
    "    print('90% precision not achievable with the current thresholds.')"
   ]
  },
  {
   "cell_type": "code",
   "execution_count": 651,
   "id": "e2de5177-1ab7-4f65-a7b6-aa610520545a",
   "metadata": {},
   "outputs": [
    {
     "data": {
      "text/plain": [
       "0.8941176470588236"
      ]
     },
     "execution_count": 651,
     "metadata": {},
     "output_type": "execute_result"
    }
   ],
   "source": [
    "precisions[915]"
   ]
  },
  {
   "cell_type": "code",
   "execution_count": 652,
   "id": "e0865868-c03f-41c3-84f2-7e375a5e9618",
   "metadata": {},
   "outputs": [
    {
     "data": {
      "text/plain": [
       "96.2301542421624"
      ]
     },
     "execution_count": 652,
     "metadata": {},
     "output_type": "execute_result"
    }
   ],
   "source": [
    "thresholds[915]"
   ]
  },
  {
   "cell_type": "markdown",
   "id": "bb39135e-83e4-4390-acaf-9f9d9b4510c0",
   "metadata": {},
   "source": [
    "Insights from the Graph:\n",
    "\n",
    "Threshold selection: The graph allows you to choose an appropriate threshold based on your application's needs:\n",
    "If precision is more important (e.g., medical diagnosis, where false positives are costly), pick a threshold where precision is high.\n",
    "If recall is more important (e.g., fraud detection, where false negatives are costly), pick a threshold where recall is high.\n",
    "Balance point: You might want a balance where both precision and recall are reasonably high. This can be observed from the graph.\n",
    "\n",
    "Extreme thresholds:\n",
    "\n",
    "At very high thresholds (far right on the x-axis): Precision is perfect (1.0) because the model predicts very few positives, but recall is very low.\n",
    "At very low thresholds (far left on the x-axis): Recall is perfect (1.0) because the model predicts almost everything as positive, but precision is very low.\n",
    "\n",
    "How to Use It:\n",
    "\n",
    "Examine how precision and recall vary across thresholds.\n",
    "Identify a threshold that aligns with your goals:\n",
    "For example, in an imbalanced dataset, you might want a threshold that keeps precision high while not sacrificing recall too much.\n",
    "Use this threshold for the model's predictions.\n",
    "\n",
    "Practical Example:\n",
    "\n",
    "Imagine you're building a model to classify whether an email is spam (positive class) or not (negative class):\n",
    "\n",
    "A high threshold might classify only the most obvious spam emails as positive, minimizing false positives but missing some spam (low recall, high precision).\n",
    "A low threshold might classify almost everything as spam, catching most spam emails (high recall) but also marking legitimate emails as spam (low precision)."
   ]
  },
  {
   "cell_type": "code",
   "execution_count": 654,
   "id": "d9f032a0-7984-41ee-9666-f88b84063689",
   "metadata": {},
   "outputs": [],
   "source": [
    " y_train_pred_90 = (y_scores > 1611)"
   ]
  },
  {
   "cell_type": "code",
   "execution_count": 655,
   "id": "bb9d91b3-e7ea-4b44-8e21-36ad8de4535b",
   "metadata": {},
   "outputs": [
    {
     "name": "stdout",
     "output_type": "stream",
     "text": [
      "0.9423076923076923\n"
     ]
    },
    {
     "data": {
      "text/plain": [
       "0.4803921568627451"
      ]
     },
     "execution_count": 655,
     "metadata": {},
     "output_type": "execute_result"
    }
   ],
   "source": [
    "print(precision_score(y_train_1, y_train_pred_90))\n",
    "recall_score(y_train_1, y_train_pred_90)"
   ]
  },
  {
   "cell_type": "markdown",
   "id": "3707ece2-7c13-4e81-8b42-e6ae14bc7734",
   "metadata": {},
   "source": [
    " Great, you have a 90% precision classifier (or close enough)! As you can see, it is\n",
    " fairly easy to create a classifier with virtually any precision you want: just set a high\n",
    " enough threshold, and you’re done. Hmm, not so fast. A high-precision classifier is\n",
    " not very useful if its recall is too low!"
   ]
  },
  {
   "cell_type": "markdown",
   "id": "185309d9-6ee5-40cc-bc8d-8a10ee3c26fb",
   "metadata": {},
   "source": [
    "### ROC Curve\n",
    "\n",
    "The receiver operating characteristic (ROC) curve is another common tool used with binary classifiers. It is very similar to the precision/recall curve, but instead of plotting precision versus recall, the ROC curve plots the true positive rate (another name for recall) against the false positive rate. The FPR is the ratio of negative instances that are incorrectly classified as positive. It is equal to one minus the true negative rate, which is the ratio of negative instances that are correctly classified as negative. The TNR is also called specificity. Hence the ROC curve plot sensitivity (recall) versus 1 – specificity."
   ]
  },
  {
   "cell_type": "code",
   "execution_count": 134,
   "id": "c3c9e006-0bac-46da-827c-f2cad9f544ec",
   "metadata": {},
   "outputs": [],
   "source": [
    "from sklearn.metrics import roc_curve\n",
    "fpr, tpr, thresholds = roc_curve(y_train_1, y_scores)"
   ]
  },
  {
   "cell_type": "code",
   "execution_count": 136,
   "id": "48f4a7c4-c17a-472a-8e73-566864321033",
   "metadata": {},
   "outputs": [
    {
     "data": {
      "image/png": "[encoded data removed]",
      "text/plain": [
       "<Figure size 640x480 with 1 Axes>"
      ]
     },
     "metadata": {},
     "output_type": "display_data"
    }
   ],
   "source": [
    "def plot_roc_curve(fpr, tpr, label=None):\n",
    " plt.plot(fpr, tpr, linewidth=2, label=label)\n",
    "    # Plotting ROC curve\n",
    " plt.plot([0, 1], [0, 1], 'k--')\n",
    "    # Dashed diagonal line\n",
    " plt.axis([0, 1, 0, 1])\n",
    "    # Set x and y axis limits\n",
    " plt.xlabel('False Positive Rate')\n",
    " plt.ylabel('True Positive Rate')\n",
    " \n",
    "plot_roc_curve(fpr, tpr)\n",
    "plt.show()"
   ]
  },
  {
   "cell_type": "markdown",
   "id": "50408f75-7c75-4606-a7bd-a1426e7aff49",
   "metadata": {},
   "source": [
    " Once again there is a tradeoff: the higher the recall (TPR), the more false positives\n",
    " (FPR) the classifier produces. The dotted line represents the ROC curve of a purely\n",
    " random classifier; a good classifier stays as far away from that line as possible (toward\n",
    " the top-left corner).\n",
    " One way to compare classifiers is to measure the area under the curve (AUC). A perfect classifier will have a ROC AUC equal to 1, whereas a purely random classifier will\n",
    " have a ROC AUC equal to 0.5. "
   ]
  },
  {
   "cell_type": "code",
   "execution_count": 157,
   "id": "d21e58f6-bf47-4cec-b872-0693787bbd55",
   "metadata": {},
   "outputs": [
    {
     "data": {
      "text/plain": [
       "0.9913970042359928"
      ]
     },
     "execution_count": 157,
     "metadata": {},
     "output_type": "execute_result"
    }
   ],
   "source": [
    "from sklearn.metrics import roc_auc_score\n",
    "roc_auc_score(y_train_1, y_scores)"
   ]
  },
  {
   "cell_type": "markdown",
   "id": "c50bf59a-5014-4f38-a2dd-150f8938759c",
   "metadata": {},
   "source": [
    " Prefer the PR curve whenever the positive\n",
    " class is rare or when you care more about the false positives than\n",
    " the false negatives, and the ROC curve otherwise"
   ]
  },
  {
   "cell_type": "markdown",
   "id": "7c81a108-d35f-4985-9587-0b8fa6f0b26b",
   "metadata": {},
   "source": [
    "https://www.youtube.com/watch?v=6tJXX3vmYl0&t=294s"
   ]
  },
  {
   "cell_type": "markdown",
   "id": "7c22da48-7583-4bbd-a1ab-8bc13c2876cc",
   "metadata": {},
   "source": [
    "### Compare curves of RandomforestClassifier and SGDClassifier"
   ]
  },
  {
   "cell_type": "markdown",
   "id": "de75532f-dbee-4919-b6a8-1aff6eb41915",
   "metadata": {},
   "source": [
    "Let’s train a RandomForestClassifier and compare its ROC curve and ROC AUC\n",
    " score to the SGDClassifier. "
   ]
  },
  {
   "cell_type": "markdown",
   "id": "3ecd18e9-ae7c-405e-ac65-13aaf9a60368",
   "metadata": {},
   "source": [
    "the RandomForestClassifier class does not have a decision_function() method. Instead it has a predict_proba() method"
   ]
  },
  {
   "cell_type": "code",
   "execution_count": 164,
   "id": "f995e3a7-fd34-4a9f-9708-6ee172317d4a",
   "metadata": {},
   "outputs": [],
   "source": [
    "from sklearn.ensemble import RandomForestClassifier\n",
    "forest_clf = RandomForestClassifier(random_state=42)\n",
    "y_probas_forest = cross_val_predict(forest_clf, X_train, y_train_1, cv=3,method=\"predict_proba\")"
   ]
  },
  {
   "cell_type": "code",
   "execution_count": 165,
   "id": "4a0f2528-eab2-4c19-865b-87905e1b4ab7",
   "metadata": {},
   "outputs": [
    {
     "data": {
      "text/plain": [
       "array([[1.  , 0.  ],\n",
       "       [0.98, 0.02],\n",
       "       [0.32, 0.68],\n",
       "       ...,\n",
       "       [0.99, 0.01],\n",
       "       [0.98, 0.02],\n",
       "       [0.7 , 0.3 ]])"
      ]
     },
     "execution_count": 165,
     "metadata": {},
     "output_type": "execute_result"
    }
   ],
   "source": [
    "y_probas_forest"
   ]
  },
  {
   "cell_type": "code",
   "execution_count": 168,
   "id": "d37aff78-ab42-4ae8-aeb1-20d524bc9867",
   "metadata": {},
   "outputs": [],
   "source": [
    "y_scores_forest = y_probas_forest[:, 1]   # score = proba of positive class\n",
    "fpr_forest, tpr_forest, thresholds_forest = roc_curve(y_train_1,y_scores_forest)"
   ]
  },
  {
   "cell_type": "code",
   "execution_count": 170,
   "id": "9ee7778f-7640-45f8-b517-d2493143f265",
   "metadata": {},
   "outputs": [
    {
     "data": {
      "image/png": "[encoded data removed]",
      "text/plain": [
       "<Figure size 640x480 with 1 Axes>"
      ]
     },
     "metadata": {},
     "output_type": "display_data"
    }
   ],
   "source": [
    "plt.plot(fpr, tpr, \"b:\", label=\"SGD\")\n",
    "plot_roc_curve(fpr_forest, tpr_forest, \"Random Forest\")\n",
    "plt.legend(loc=\"lower right\")\n",
    "plt.show()"
   ]
  },
  {
   "cell_type": "code",
   "execution_count": 172,
   "id": "1a4aabfd-2f6c-42bb-9272-34fc12150507",
   "metadata": {},
   "outputs": [
    {
     "data": {
      "text/plain": [
       "0.9997216035634744"
      ]
     },
     "execution_count": 172,
     "metadata": {},
     "output_type": "execute_result"
    }
   ],
   "source": [
    "roc_auc_score(y_train_1, y_scores_forest)"
   ]
  },
  {
   "cell_type": "markdown",
   "id": "13eb57c5-c542-4ebd-ae9c-1308aee65d12",
   "metadata": {},
   "source": [
    "ROC curve for the `RandomForestClassifier` is significantly better than that of the `SGDClassifier`. A curve that is closer to the top-left corner of the plot indicates better performance, as it means the classifier has a high true positive rate and a low false positive rate.\n",
    "\n",
    "The Area Under the Curve (AUC) score quantifies the overall performance of the classifier. A higher AUC score indicates better model performance. The text mentions that the `RandomForestClassifier` has a significantly better ROC AUC score compared to the `SGDClassifier`, reinforcing its superior performance."
   ]
  },
  {
   "cell_type": "markdown",
   "id": "42b57544-a354-48c1-92b6-42963b8ed463",
   "metadata": {},
   "source": [
    "## Multiclass Classification"
   ]
  },
  {
   "cell_type": "markdown",
   "id": "ff9c705d-d51b-4bcc-8e04-e6bf7ad36b83",
   "metadata": {},
   "source": [
    "1. **Direct Multiclass Handling**:\n",
    "   - Some algorithms (e.g., Random Forest, Naive Bayes) can handle multiple classes directly.\n",
    "   - Others (e.g., Support Vector Machines, Linear classifiers) are strictly binary classifiers.\n",
    "\n",
    "2. **One-versus-All (OvA) Strategy**:\n",
    "   - Train one binary classifier for each class (e.g., 10 classifiers for digits 0-9).\n",
    "   - Classify an image by selecting the class with the highest decision score from the classifiers.\n",
    "\n",
    "3. **One-versus-One (OvO) Strategy**:\n",
    "   - Train a binary classifier for every pair of classes (e.g., distinguish between 0s and 1s, 0s and 2s, etc.).\n",
    "   - Requires training \\(N x (N - 1) / 2\\) classifiers for \\(N\\) classes (e.g., 45 classifiers for MNIST).\n",
    "     that means n+(n-1)+(n-2)+...+1\n",
    "   - Classify an image by running it through all classifiers and selecting the class that wins the most duels.\n",
    "\n",
    "4. **Advantages of OvO**:\n",
    "   - Each classifier is trained on a smaller subset of the training data, which is beneficial for algorithms that scale poorly with larger datasets.\n",
    "\n",
    "5. **Preference for OvA or OvO**:\n",
    "   - OvA is generally preferred for most binary classification algorithms.\n",
    "   - Scikit-Learn automatically applies OvA for binary classifiers in multiclass tasks, except for SVMs, which use OvO."
   ]
  },
  {
   "cell_type": "markdown",
   "id": "fdfb3c84-7616-4d64-85b6-a3338e7b4466",
   "metadata": {},
   "source": [
    "This code trains the SGDClassifier on the training set using the original target classes from 0 to 9 (y_train), instead of the 5-versus-all target classes (y_train_1). Then it makes a prediction (a correct one in this case). Under the hood, Scikit-Learn actually trained 10 binary classifiers, got their decision scores for the image, and selected the class with the highest score."
   ]
  },
  {
   "cell_type": "code",
   "execution_count": 182,
   "id": "b3851290-4c11-4902-b8d0-204661fe730d",
   "metadata": {},
   "outputs": [
    {
     "data": {
      "text/plain": [
       "array([1])"
      ]
     },
     "execution_count": 182,
     "metadata": {},
     "output_type": "execute_result"
    }
   ],
   "source": [
    "sgd_clf.fit(X_train, y_train)  # y_train, not y_train_1 as we need multiple classes here\n",
    "sgd_clf.predict([some_digit])"
   ]
  },
  {
   "cell_type": "markdown",
   "id": "b6b63e14-7927-4914-87d4-d2dae4e46d0d",
   "metadata": {},
   "source": [
    "To see that this is indeed the case, you can call the decision_function() method. Instead of returning just one score per instance, it now returns 10 scores, one per class"
   ]
  },
  {
   "cell_type": "code",
   "execution_count": 185,
   "id": "deadb389-5da1-499d-9676-054591362e1f",
   "metadata": {},
   "outputs": [
    {
     "data": {
      "text/plain": [
       "array([[-6284.35566548,  1795.58388766, -1048.07659039,  -189.69949284,\n",
       "        -5669.79324234, -4374.19013785, -2724.65526949, -6571.0960645 ,\n",
       "        -3017.01919549, -3893.28796926]])"
      ]
     },
     "execution_count": 185,
     "metadata": {},
     "output_type": "execute_result"
    }
   ],
   "source": [
    "some_digit_scores = sgd_clf.decision_function([some_digit])\n",
    "some_digit_scores"
   ]
  },
  {
   "cell_type": "code",
   "execution_count": 187,
   "id": "8dbe6a89-d82b-4a00-bb0a-55eb3fd63a4a",
   "metadata": {},
   "outputs": [
    {
     "name": "stdout",
     "output_type": "stream",
     "text": [
      "1\n",
      "[0 1 2 3 4 5 6 7 8 9]\n",
      "9\n"
     ]
    }
   ],
   "source": [
    "print(np.argmax(some_digit_scores))\n",
    "print(sgd_clf.classes_)\n",
    "print(sgd_clf.classes_[9])"
   ]
  },
  {
   "cell_type": "markdown",
   "id": "4f12a41a-fd35-4853-b299-61a553a32c1b",
   "metadata": {},
   "source": [
    "The index of classes in the `classes_` attribute may match the class values in some cases (like digits), it is not a universal rule. Always check the `classes_` attribute directly to understand the mapping of indices to class labels, especially when dealing with non-numeric or non-sequential classes."
   ]
  },
  {
   "cell_type": "markdown",
   "id": "856bef74-b8a1-4c92-a66e-fb0fc78ca87a",
   "metadata": {},
   "source": [
    "If you want to force ScikitLearn to use one-versus-one or one-versus-all, you can use the OneVsOneClassifier or OneVsRestClassifier classes. Simply create an instance and pass a binary classifier to its constructor. For example, this code creates a multiclass classifier using the OvO strategy, based on a SGDClassifier"
   ]
  },
  {
   "cell_type": "code",
   "execution_count": 191,
   "id": "a6e9ed8c-f2ff-495e-be83-be955429cd84",
   "metadata": {},
   "outputs": [
    {
     "data": {
      "text/plain": [
       "45"
      ]
     },
     "execution_count": 191,
     "metadata": {},
     "output_type": "execute_result"
    }
   ],
   "source": [
    "from sklearn.multiclass import OneVsOneClassifier\n",
    "ovo_clf = OneVsOneClassifier(SGDClassifier(random_state=42))\n",
    "ovo_clf.fit(X_train, y_train)\n",
    "ovo_clf.predict([some_digit])\n",
    "len(ovo_clf.estimators_)"
   ]
  },
  {
   "cell_type": "markdown",
   "id": "bb9f1731-2747-4953-9e8d-606a38c89565",
   "metadata": {},
   "source": [
    " Training a RandomForestClassifier"
   ]
  },
  {
   "cell_type": "code",
   "execution_count": 194,
   "id": "5ce810cd-2bc9-4807-a89b-818431a8e866",
   "metadata": {},
   "outputs": [
    {
     "data": {
      "text/plain": [
       "array([1])"
      ]
     },
     "execution_count": 194,
     "metadata": {},
     "output_type": "execute_result"
    }
   ],
   "source": [
    "forest_clf.fit(X_train, y_train)\n",
    "forest_clf.predict([some_digit])"
   ]
  },
  {
   "cell_type": "markdown",
   "id": "f9b2d498-c4fa-4aec-960b-b790a4c7aa02",
   "metadata": {},
   "source": [
    "You can call predict_proba() to get the list of probabilities that the classifier assigned to each instance for each class:"
   ]
  },
  {
   "cell_type": "code",
   "execution_count": 197,
   "id": "6bfe2801-d59c-4efa-be6e-6b1d4cc892f0",
   "metadata": {},
   "outputs": [
    {
     "data": {
      "text/plain": [
       "array([[0.  , 0.71, 0.11, 0.1 , 0.  , 0.01, 0.02, 0.  , 0.05, 0.  ]])"
      ]
     },
     "execution_count": 197,
     "metadata": {},
     "output_type": "execute_result"
    }
   ],
   "source": [
    "forest_clf.predict_proba([some_digit])"
   ]
  },
  {
   "cell_type": "markdown",
   "id": "153cce42-155d-4e9c-92df-aa7bbbf58f4d",
   "metadata": {},
   "source": [
    "The 0.65 at the 1st index in the array means that the model estimates an 65% probability that the image Multiclass Classification \n",
    "represents a 1. It also thinks that the image could instead other number also."
   ]
  },
  {
   "cell_type": "code",
   "execution_count": 200,
   "id": "5941f819-75fe-414d-ab66-36883556414b",
   "metadata": {},
   "outputs": [
    {
     "data": {
      "text/plain": [
       "array([0.96107784, 0.98498498, 0.98498498])"
      ]
     },
     "execution_count": 200,
     "metadata": {},
     "output_type": "execute_result"
    }
   ],
   "source": [
    " cross_val_score(forest_clf, X_train, y_train, cv=3, scoring=\"accuracy\")"
   ]
  },
  {
   "cell_type": "code",
   "execution_count": 201,
   "id": "c5bd9c94-d2b1-4300-8205-4e9c224b2575",
   "metadata": {},
   "outputs": [
    {
     "data": {
      "text/plain": [
       "array([0.96407186, 0.97897898, 0.94894895])"
      ]
     },
     "execution_count": 201,
     "metadata": {},
     "output_type": "execute_result"
    }
   ],
   "source": [
    " cross_val_score(ovo_clf, X_train, y_train, cv=3, scoring=\"accuracy\")"
   ]
  },
  {
   "cell_type": "code",
   "execution_count": 204,
   "id": "494660c3-45d9-4fb7-b76d-703506401c0c",
   "metadata": {},
   "outputs": [
    {
     "data": {
      "text/plain": [
       "array([0.93712575, 0.96396396, 0.93693694])"
      ]
     },
     "execution_count": 204,
     "metadata": {},
     "output_type": "execute_result"
    }
   ],
   "source": [
    " cross_val_score(sgd_clf, X_train, y_train, cv=3, scoring=\"accuracy\")"
   ]
  },
  {
   "cell_type": "markdown",
   "id": "1cb68419-7dce-44bd-80bb-d2ac829330f9",
   "metadata": {},
   "source": [
    "model achieves high accuracy, particularly when the input features are scaled."
   ]
  },
  {
   "cell_type": "code",
   "execution_count": 207,
   "id": "48e5ede0-a43b-40c2-92ae-459fe042b2ac",
   "metadata": {},
   "outputs": [
    {
     "data": {
      "text/plain": [
       "array([0.95808383, 0.96696697, 0.94894895])"
      ]
     },
     "execution_count": 207,
     "metadata": {},
     "output_type": "execute_result"
    }
   ],
   "source": [
    "from sklearn.preprocessing import StandardScaler\n",
    "scaler = StandardScaler()\n",
    "X_train_scaled = scaler.fit_transform(X_train.astype(np.float64))\n",
    "cross_val_score(sgd_clf, X_train_scaled, y_train, cv=3, scoring=\"accuracy\")"
   ]
  },
  {
   "cell_type": "markdown",
   "id": "8baebbcb-2a5b-4ba8-b7c7-0ba911a4df58",
   "metadata": {},
   "source": [
    "### Error Analysis"
   ]
  },
  {
   "cell_type": "code",
   "execution_count": 210,
   "id": "c2610972-6648-40e6-9dcd-5ce50acc6b49",
   "metadata": {},
   "outputs": [
    {
     "data": {
      "text/plain": [
       "array([[99,  0,  0,  0,  0,  0,  0,  0,  0,  0],\n",
       "       [ 0, 96,  0,  0,  0,  0,  0,  0,  4,  2],\n",
       "       [ 0,  0, 98,  1,  0,  0,  0,  0,  1,  0],\n",
       "       [ 0,  0,  0, 98,  0,  2,  0,  1,  1,  2],\n",
       "       [ 0,  0,  0,  0, 96,  0,  0,  2,  0,  0],\n",
       "       [ 0,  0,  0,  1,  1, 93,  0,  0,  1,  4],\n",
       "       [ 0,  1,  0,  0,  0,  1, 98,  0,  1,  0],\n",
       "       [ 0,  0,  0,  0,  0,  0,  0, 97,  0,  2],\n",
       "       [ 0,  6,  1,  0,  0,  0,  0,  0, 89,  2],\n",
       "       [ 0,  0,  0,  1,  0,  0,  0,  0,  4, 94]], dtype=int64)"
      ]
     },
     "execution_count": 210,
     "metadata": {},
     "output_type": "execute_result"
    }
   ],
   "source": [
    "y_train_pred = cross_val_predict(sgd_clf, X_train_scaled, y_train, cv=3)\n",
    "conf_mx = confusion_matrix(y_train, y_train_pred)\n",
    "conf_mx"
   ]
  },
  {
   "cell_type": "code",
   "execution_count": 212,
   "id": "fd8ab0b7-2734-4f3d-b8a9-557657e7914a",
   "metadata": {},
   "outputs": [
    {
     "data": {
      "image/png": "[encoded data removed]",
      "text/plain": [
       "<Figure size 480x480 with 1 Axes>"
      ]
     },
     "metadata": {},
     "output_type": "display_data"
    }
   ],
   "source": [
    "plt.matshow(conf_mx, cmap=plt.cm.gray)\n",
    "plt.show()"
   ]
  },
  {
   "cell_type": "markdown",
   "id": "a45402f4-a681-482c-8c65-c31ac3448ee9",
   "metadata": {},
   "source": [
    "This confusion matrix looks fairly good, since most images are on the main diagonal,which means that they were classified correctly. The 5s look slightly darker than the other digits, which could mean that there are fewer images of 5s in the dataset or that the classifier does not perform as well on 5s as on other digits. "
   ]
  },
  {
   "cell_type": "code",
   "execution_count": 215,
   "id": "2eb029e5-f7cf-4977-aea1-975ac8954e88",
   "metadata": {},
   "outputs": [],
   "source": [
    " row_sums = conf_mx.sum(axis=1, keepdims=True)\n",
    " norm_conf_mx = conf_mx / row_sums"
   ]
  },
  {
   "cell_type": "markdown",
   "id": "ed7f2400-f223-455f-a5dc-095c059e4e0f",
   "metadata": {},
   "source": [
    "Let’s focus the plot on the errors. First, you need to divide each value in the confusion matrix by the number of images in the corresponding class, so you can compare error rates instead of absolute number of errors (which would make abundant classes look unfairly bad)"
   ]
  },
  {
   "cell_type": "code",
   "execution_count": 218,
   "id": "6b1a1d61-0c47-40a6-8f2e-a4a91e09a194",
   "metadata": {},
   "outputs": [
    {
     "data": {
      "image/png": "[encoded data removed]",
      "text/plain": [
       "<Figure size 480x480 with 1 Axes>"
      ]
     },
     "metadata": {},
     "output_type": "display_data"
    }
   ],
   "source": [
    "np.fill_diagonal(norm_conf_mx, 0)\n",
    "plt.matshow(norm_conf_mx, cmap=plt.cm.gray)\n",
    "plt.show()"
   ]
  },
  {
   "cell_type": "markdown",
   "id": "60af4ae9-8b60-4d59-b030-f420b26ddab2",
   "metadata": {},
   "source": [
    "Now you can clearly see the kinds of errors the classifier makes. \n",
    "    \n",
    "Rows represent actual classes, while columns represent predicted classes. "
   ]
  },
  {
   "cell_type": "code",
   "execution_count": 227,
   "id": "f5a1cafb-4c3c-44ab-8643-5e81520b02c0",
   "metadata": {},
   "outputs": [],
   "source": [
    "def plot_digits(images, images_per_row=5, img_shape=(8, 8)):\n",
    "    \"\"\"\n",
    "    Plots a grid of digit images.\n",
    "\n",
    "    Parameters:\n",
    "    - images: A list or array of image data.\n",
    "    - images_per_row: Number of images per row in the grid.\n",
    "    - img_shape: Shape of each image (default is (28, 28) for MNIST).\n",
    "    \"\"\"\n",
    "    n_images = len(images)\n",
    "    n_rows = (n_images + images_per_row - 1) // images_per_row\n",
    "    n_cols = min(n_images, images_per_row)\n",
    "    plt.figure(figsize=(images_per_row, n_rows))\n",
    "    \n",
    "    for idx, image in enumerate(images):\n",
    "        plt.subplot(n_rows, n_cols, idx + 1)\n",
    "        plt.imshow(image.reshape(img_shape), cmap=\"gray_r\", interpolation=\"nearest\")\n",
    "        plt.axis('off')\n",
    "\n",
    "    plt.tight_layout()\n",
    "    plt.show()"
   ]
  },
  {
   "cell_type": "code",
   "execution_count": 223,
   "id": "d65306cc-ef13-4a04-b33a-8d1e270f5654",
   "metadata": {},
   "outputs": [],
   "source": [
    " cl_a, cl_b = 1,8\n",
    " X_aa = X_train[(y_train == cl_a) & (y_train_pred == cl_a)]\n",
    " X_ab = X_train[(y_train == cl_a) & (y_train_pred == cl_b)]\n",
    " X_ba = X_train[(y_train == cl_b) & (y_train_pred == cl_a)]\n",
    " X_bb = X_train[(y_train == cl_b) & (y_train_pred == cl_b)]"
   ]
  },
  {
   "cell_type": "code",
   "execution_count": 229,
   "id": "98cb2665-4d9c-4686-af91-30d2d8be9cda",
   "metadata": {},
   "outputs": [
    {
     "data": {
      "image/png": "[encoded data removed]",
      "text/plain": [
       "<Figure size 500x500 with 25 Axes>"
      ]
     },
     "metadata": {},
     "output_type": "display_data"
    },
    {
     "name": "stdout",
     "output_type": "stream",
     "text": [
      "Above are images of 1 predicted as 1 \n"
     ]
    },
    {
     "data": {
      "image/png": "[encoded data removed]",
      "text/plain": [
       "<Figure size 500x100 with 4 Axes>"
      ]
     },
     "metadata": {},
     "output_type": "display_data"
    },
    {
     "name": "stdout",
     "output_type": "stream",
     "text": [
      "Above are images of 1 predicted as 8 \n"
     ]
    },
    {
     "data": {
      "image/png": "[encoded data removed]",
      "text/plain": [
       "<Figure size 500x200 with 6 Axes>"
      ]
     },
     "metadata": {},
     "output_type": "display_data"
    },
    {
     "name": "stdout",
     "output_type": "stream",
     "text": [
      "Above are images of 8 predicted as 1 \n"
     ]
    },
    {
     "data": {
      "image/png": "[encoded data removed]",
      "text/plain": [
       "<Figure size 500x500 with 25 Axes>"
      ]
     },
     "metadata": {},
     "output_type": "display_data"
    },
    {
     "name": "stdout",
     "output_type": "stream",
     "text": [
      "Above are images of 8 predicted as 8 \n"
     ]
    }
   ],
   "source": [
    " # plt.figure(figsize=(8,8))\n",
    " # plt.subplot(221);\n",
    "plot_digits(X_aa[:25], images_per_row=5)\n",
    "print('Above are images of 1 predicted as 1 ')\n",
    " # plt.subplot(222); \n",
    "plot_digits(X_ab[:25], images_per_row=5)\n",
    "print('Above are images of 1 predicted as 8 ')\n",
    " # plt.subplot(223); \n",
    "plot_digits(X_ba[:25], images_per_row=5)\n",
    "print('Above are images of 8 predicted as 1 ')\n",
    "# plt.subplot(224); \n",
    "plot_digits(X_bb[:25], images_per_row=5)\n",
    "print('Above are images of 8 predicted as 8 ')\n",
    "# plt.show()"
   ]
  },
  {
   "cell_type": "markdown",
   "id": "ace1c1ec-a3be-4b45-ac02-de0ef347e9a4",
   "metadata": {},
   "source": [
    "Most misclassified images seem like obvious errors to us, and it’s hard to understand why the classifier made the mistakes it did.\n",
    "\n",
    "The reason is that we used a simple SGDClassifier, which is a linear model.\n",
    "\n",
    "All it does is assign a weight per class to each pixel, and when it sees a new image it just sums up the weighted pixel intensities to get a score for each class. \n"
   ]
  },
  {
   "cell_type": "markdown",
   "id": "fe815a90-a285-4d5b-9d17-3bfb61949687",
   "metadata": {},
   "source": [
    "###  Multilabel Classification"
   ]
  },
  {
   "cell_type": "markdown",
   "id": "293b4a11-d0b6-442a-843a-da308cfbb386",
   "metadata": {},
   "source": [
    "For classifier to output multiple classes for each instance. For example, consider a face-recognition classifier: what should it do if it recognizes several people on the same picture?\n",
    "\n",
    "It should attach one label per person it recognizes."
   ]
  },
  {
   "cell_type": "code",
   "execution_count": 242,
   "id": "8b6e27f7-5410-484c-b9c3-c9e7f4f3cc38",
   "metadata": {},
   "outputs": [
    {
     "data": {
      "text/html": [
       "<style>#sk-container-id-4 {\n",
       "  /* Definition of color scheme common for light and dark mode */\n",
       "  --sklearn-color-text: black;\n",
       "  --sklearn-color-line: gray;\n",
       "  /* Definition of color scheme for unfitted estimators */\n",
       "  --sklearn-color-unfitted-level-0: #fff5e6;\n",
       "  --sklearn-color-unfitted-level-1: #f6e4d2;\n",
       "  --sklearn-color-unfitted-level-2: #ffe0b3;\n",
       "  --sklearn-color-unfitted-level-3: chocolate;\n",
       "  /* Definition of color scheme for fitted estimators */\n",
       "  --sklearn-color-fitted-level-0: #f0f8ff;\n",
       "  --sklearn-color-fitted-level-1: #d4ebff;\n",
       "  --sklearn-color-fitted-level-2: #b3dbfd;\n",
       "  --sklearn-color-fitted-level-3: cornflowerblue;\n",
       "\n",
       "  /* Specific color for light theme */\n",
       "  --sklearn-color-text-on-default-background: var(--sg-text-color, var(--theme-code-foreground, var(--jp-content-font-color1, black)));\n",
       "  --sklearn-color-background: var(--sg-background-color, var(--theme-background, var(--jp-layout-color0, white)));\n",
       "  --sklearn-color-border-box: var(--sg-text-color, var(--theme-code-foreground, var(--jp-content-font-color1, black)));\n",
       "  --sklearn-color-icon: #696969;\n",
       "\n",
       "  @media (prefers-color-scheme: dark) {\n",
       "    /* Redefinition of color scheme for dark theme */\n",
       "    --sklearn-color-text-on-default-background: var(--sg-text-color, var(--theme-code-foreground, var(--jp-content-font-color1, white)));\n",
       "    --sklearn-color-background: var(--sg-background-color, var(--theme-background, var(--jp-layout-color0, #111)));\n",
       "    --sklearn-color-border-box: var(--sg-text-color, var(--theme-code-foreground, var(--jp-content-font-color1, white)));\n",
       "    --sklearn-color-icon: #878787;\n",
       "  }\n",
       "}\n",
       "\n",
       "#sk-container-id-4 {\n",
       "  color: var(--sklearn-color-text);\n",
       "}\n",
       "\n",
       "#sk-container-id-4 pre {\n",
       "  padding: 0;\n",
       "}\n",
       "\n",
       "#sk-container-id-4 input.sk-hidden--visually {\n",
       "  border: 0;\n",
       "  clip: rect(1px 1px 1px 1px);\n",
       "  clip: rect(1px, 1px, 1px, 1px);\n",
       "  height: 1px;\n",
       "  margin: -1px;\n",
       "  overflow: hidden;\n",
       "  padding: 0;\n",
       "  position: absolute;\n",
       "  width: 1px;\n",
       "}\n",
       "\n",
       "#sk-container-id-4 div.sk-dashed-wrapped {\n",
       "  border: 1px dashed var(--sklearn-color-line);\n",
       "  margin: 0 0.4em 0.5em 0.4em;\n",
       "  box-sizing: border-box;\n",
       "  padding-bottom: 0.4em;\n",
       "  background-color: var(--sklearn-color-background);\n",
       "}\n",
       "\n",
       "#sk-container-id-4 div.sk-container {\n",
       "  /* jupyter's `normalize.less` sets `[hidden] { display: none; }`\n",
       "     but bootstrap.min.css set `[hidden] { display: none !important; }`\n",
       "     so we also need the `!important` here to be able to override the\n",
       "     default hidden behavior on the sphinx rendered scikit-learn.org.\n",
       "     See: https://github.com/scikit-learn/scikit-learn/issues/21755 */\n",
       "  display: inline-block !important;\n",
       "  position: relative;\n",
       "}\n",
       "\n",
       "#sk-container-id-4 div.sk-text-repr-fallback {\n",
       "  display: none;\n",
       "}\n",
       "\n",
       "div.sk-parallel-item,\n",
       "div.sk-serial,\n",
       "div.sk-item {\n",
       "  /* draw centered vertical line to link estimators */\n",
       "  background-image: linear-gradient(var(--sklearn-color-text-on-default-background), var(--sklearn-color-text-on-default-background));\n",
       "  background-size: 2px 100%;\n",
       "  background-repeat: no-repeat;\n",
       "  background-position: center center;\n",
       "}\n",
       "\n",
       "/* Parallel-specific style estimator block */\n",
       "\n",
       "#sk-container-id-4 div.sk-parallel-item::after {\n",
       "  content: \"\";\n",
       "  width: 100%;\n",
       "  border-bottom: 2px solid var(--sklearn-color-text-on-default-background);\n",
       "  flex-grow: 1;\n",
       "}\n",
       "\n",
       "#sk-container-id-4 div.sk-parallel {\n",
       "  display: flex;\n",
       "  align-items: stretch;\n",
       "  justify-content: center;\n",
       "  background-color: var(--sklearn-color-background);\n",
       "  position: relative;\n",
       "}\n",
       "\n",
       "#sk-container-id-4 div.sk-parallel-item {\n",
       "  display: flex;\n",
       "  flex-direction: column;\n",
       "}\n",
       "\n",
       "#sk-container-id-4 div.sk-parallel-item:first-child::after {\n",
       "  align-self: flex-end;\n",
       "  width: 50%;\n",
       "}\n",
       "\n",
       "#sk-container-id-4 div.sk-parallel-item:last-child::after {\n",
       "  align-self: flex-start;\n",
       "  width: 50%;\n",
       "}\n",
       "\n",
       "#sk-container-id-4 div.sk-parallel-item:only-child::after {\n",
       "  width: 0;\n",
       "}\n",
       "\n",
       "/* Serial-specific style estimator block */\n",
       "\n",
       "#sk-container-id-4 div.sk-serial {\n",
       "  display: flex;\n",
       "  flex-direction: column;\n",
       "  align-items: center;\n",
       "  background-color: var(--sklearn-color-background);\n",
       "  padding-right: 1em;\n",
       "  padding-left: 1em;\n",
       "}\n",
       "\n",
       "\n",
       "/* Toggleable style: style used for estimator/Pipeline/ColumnTransformer box that is\n",
       "clickable and can be expanded/collapsed.\n",
       "- Pipeline and ColumnTransformer use this feature and define the default style\n",
       "- Estimators will overwrite some part of the style using the `sk-estimator` class\n",
       "*/\n",
       "\n",
       "/* Pipeline and ColumnTransformer style (default) */\n",
       "\n",
       "#sk-container-id-4 div.sk-toggleable {\n",
       "  /* Default theme specific background. It is overwritten whether we have a\n",
       "  specific estimator or a Pipeline/ColumnTransformer */\n",
       "  background-color: var(--sklearn-color-background);\n",
       "}\n",
       "\n",
       "/* Toggleable label */\n",
       "#sk-container-id-4 label.sk-toggleable__label {\n",
       "  cursor: pointer;\n",
       "  display: block;\n",
       "  width: 100%;\n",
       "  margin-bottom: 0;\n",
       "  padding: 0.5em;\n",
       "  box-sizing: border-box;\n",
       "  text-align: center;\n",
       "}\n",
       "\n",
       "#sk-container-id-4 label.sk-toggleable__label-arrow:before {\n",
       "  /* Arrow on the left of the label */\n",
       "  content: \"▸\";\n",
       "  float: left;\n",
       "  margin-right: 0.25em;\n",
       "  color: var(--sklearn-color-icon);\n",
       "}\n",
       "\n",
       "#sk-container-id-4 label.sk-toggleable__label-arrow:hover:before {\n",
       "  color: var(--sklearn-color-text);\n",
       "}\n",
       "\n",
       "/* Toggleable content - dropdown */\n",
       "\n",
       "#sk-container-id-4 div.sk-toggleable__content {\n",
       "  max-height: 0;\n",
       "  max-width: 0;\n",
       "  overflow: hidden;\n",
       "  text-align: left;\n",
       "  /* unfitted */\n",
       "  background-color: var(--sklearn-color-unfitted-level-0);\n",
       "}\n",
       "\n",
       "#sk-container-id-4 div.sk-toggleable__content.fitted {\n",
       "  /* fitted */\n",
       "  background-color: var(--sklearn-color-fitted-level-0);\n",
       "}\n",
       "\n",
       "#sk-container-id-4 div.sk-toggleable__content pre {\n",
       "  margin: 0.2em;\n",
       "  border-radius: 0.25em;\n",
       "  color: var(--sklearn-color-text);\n",
       "  /* unfitted */\n",
       "  background-color: var(--sklearn-color-unfitted-level-0);\n",
       "}\n",
       "\n",
       "#sk-container-id-4 div.sk-toggleable__content.fitted pre {\n",
       "  /* unfitted */\n",
       "  background-color: var(--sklearn-color-fitted-level-0);\n",
       "}\n",
       "\n",
       "#sk-container-id-4 input.sk-toggleable__control:checked~div.sk-toggleable__content {\n",
       "  /* Expand drop-down */\n",
       "  max-height: 200px;\n",
       "  max-width: 100%;\n",
       "  overflow: auto;\n",
       "}\n",
       "\n",
       "#sk-container-id-4 input.sk-toggleable__control:checked~label.sk-toggleable__label-arrow:before {\n",
       "  content: \"▾\";\n",
       "}\n",
       "\n",
       "/* Pipeline/ColumnTransformer-specific style */\n",
       "\n",
       "#sk-container-id-4 div.sk-label input.sk-toggleable__control:checked~label.sk-toggleable__label {\n",
       "  color: var(--sklearn-color-text);\n",
       "  background-color: var(--sklearn-color-unfitted-level-2);\n",
       "}\n",
       "\n",
       "#sk-container-id-4 div.sk-label.fitted input.sk-toggleable__control:checked~label.sk-toggleable__label {\n",
       "  background-color: var(--sklearn-color-fitted-level-2);\n",
       "}\n",
       "\n",
       "/* Estimator-specific style */\n",
       "\n",
       "/* Colorize estimator box */\n",
       "#sk-container-id-4 div.sk-estimator input.sk-toggleable__control:checked~label.sk-toggleable__label {\n",
       "  /* unfitted */\n",
       "  background-color: var(--sklearn-color-unfitted-level-2);\n",
       "}\n",
       "\n",
       "#sk-container-id-4 div.sk-estimator.fitted input.sk-toggleable__control:checked~label.sk-toggleable__label {\n",
       "  /* fitted */\n",
       "  background-color: var(--sklearn-color-fitted-level-2);\n",
       "}\n",
       "\n",
       "#sk-container-id-4 div.sk-label label.sk-toggleable__label,\n",
       "#sk-container-id-4 div.sk-label label {\n",
       "  /* The background is the default theme color */\n",
       "  color: var(--sklearn-color-text-on-default-background);\n",
       "}\n",
       "\n",
       "/* On hover, darken the color of the background */\n",
       "#sk-container-id-4 div.sk-label:hover label.sk-toggleable__label {\n",
       "  color: var(--sklearn-color-text);\n",
       "  background-color: var(--sklearn-color-unfitted-level-2);\n",
       "}\n",
       "\n",
       "/* Label box, darken color on hover, fitted */\n",
       "#sk-container-id-4 div.sk-label.fitted:hover label.sk-toggleable__label.fitted {\n",
       "  color: var(--sklearn-color-text);\n",
       "  background-color: var(--sklearn-color-fitted-level-2);\n",
       "}\n",
       "\n",
       "/* Estimator label */\n",
       "\n",
       "#sk-container-id-4 div.sk-label label {\n",
       "  font-family: monospace;\n",
       "  font-weight: bold;\n",
       "  display: inline-block;\n",
       "  line-height: 1.2em;\n",
       "}\n",
       "\n",
       "#sk-container-id-4 div.sk-label-container {\n",
       "  text-align: center;\n",
       "}\n",
       "\n",
       "/* Estimator-specific */\n",
       "#sk-container-id-4 div.sk-estimator {\n",
       "  font-family: monospace;\n",
       "  border: 1px dotted var(--sklearn-color-border-box);\n",
       "  border-radius: 0.25em;\n",
       "  box-sizing: border-box;\n",
       "  margin-bottom: 0.5em;\n",
       "  /* unfitted */\n",
       "  background-color: var(--sklearn-color-unfitted-level-0);\n",
       "}\n",
       "\n",
       "#sk-container-id-4 div.sk-estimator.fitted {\n",
       "  /* fitted */\n",
       "  background-color: var(--sklearn-color-fitted-level-0);\n",
       "}\n",
       "\n",
       "/* on hover */\n",
       "#sk-container-id-4 div.sk-estimator:hover {\n",
       "  /* unfitted */\n",
       "  background-color: var(--sklearn-color-unfitted-level-2);\n",
       "}\n",
       "\n",
       "#sk-container-id-4 div.sk-estimator.fitted:hover {\n",
       "  /* fitted */\n",
       "  background-color: var(--sklearn-color-fitted-level-2);\n",
       "}\n",
       "\n",
       "/* Specification for estimator info (e.g. \"i\" and \"?\") */\n",
       "\n",
       "/* Common style for \"i\" and \"?\" */\n",
       "\n",
       ".sk-estimator-doc-link,\n",
       "a:link.sk-estimator-doc-link,\n",
       "a:visited.sk-estimator-doc-link {\n",
       "  float: right;\n",
       "  font-size: smaller;\n",
       "  line-height: 1em;\n",
       "  font-family: monospace;\n",
       "  background-color: var(--sklearn-color-background);\n",
       "  border-radius: 1em;\n",
       "  height: 1em;\n",
       "  width: 1em;\n",
       "  text-decoration: none !important;\n",
       "  margin-left: 1ex;\n",
       "  /* unfitted */\n",
       "  border: var(--sklearn-color-unfitted-level-1) 1pt solid;\n",
       "  color: var(--sklearn-color-unfitted-level-1);\n",
       "}\n",
       "\n",
       ".sk-estimator-doc-link.fitted,\n",
       "a:link.sk-estimator-doc-link.fitted,\n",
       "a:visited.sk-estimator-doc-link.fitted {\n",
       "  /* fitted */\n",
       "  border: var(--sklearn-color-fitted-level-1) 1pt solid;\n",
       "  color: var(--sklearn-color-fitted-level-1);\n",
       "}\n",
       "\n",
       "/* On hover */\n",
       "div.sk-estimator:hover .sk-estimator-doc-link:hover,\n",
       ".sk-estimator-doc-link:hover,\n",
       "div.sk-label-container:hover .sk-estimator-doc-link:hover,\n",
       ".sk-estimator-doc-link:hover {\n",
       "  /* unfitted */\n",
       "  background-color: var(--sklearn-color-unfitted-level-3);\n",
       "  color: var(--sklearn-color-background);\n",
       "  text-decoration: none;\n",
       "}\n",
       "\n",
       "div.sk-estimator.fitted:hover .sk-estimator-doc-link.fitted:hover,\n",
       ".sk-estimator-doc-link.fitted:hover,\n",
       "div.sk-label-container:hover .sk-estimator-doc-link.fitted:hover,\n",
       ".sk-estimator-doc-link.fitted:hover {\n",
       "  /* fitted */\n",
       "  background-color: var(--sklearn-color-fitted-level-3);\n",
       "  color: var(--sklearn-color-background);\n",
       "  text-decoration: none;\n",
       "}\n",
       "\n",
       "/* Span, style for the box shown on hovering the info icon */\n",
       ".sk-estimator-doc-link span {\n",
       "  display: none;\n",
       "  z-index: 9999;\n",
       "  position: relative;\n",
       "  font-weight: normal;\n",
       "  right: .2ex;\n",
       "  padding: .5ex;\n",
       "  margin: .5ex;\n",
       "  width: min-content;\n",
       "  min-width: 20ex;\n",
       "  max-width: 50ex;\n",
       "  color: var(--sklearn-color-text);\n",
       "  box-shadow: 2pt 2pt 4pt #999;\n",
       "  /* unfitted */\n",
       "  background: var(--sklearn-color-unfitted-level-0);\n",
       "  border: .5pt solid var(--sklearn-color-unfitted-level-3);\n",
       "}\n",
       "\n",
       ".sk-estimator-doc-link.fitted span {\n",
       "  /* fitted */\n",
       "  background: var(--sklearn-color-fitted-level-0);\n",
       "  border: var(--sklearn-color-fitted-level-3);\n",
       "}\n",
       "\n",
       ".sk-estimator-doc-link:hover span {\n",
       "  display: block;\n",
       "}\n",
       "\n",
       "/* \"?\"-specific style due to the `<a>` HTML tag */\n",
       "\n",
       "#sk-container-id-4 a.estimator_doc_link {\n",
       "  float: right;\n",
       "  font-size: 1rem;\n",
       "  line-height: 1em;\n",
       "  font-family: monospace;\n",
       "  background-color: var(--sklearn-color-background);\n",
       "  border-radius: 1rem;\n",
       "  height: 1rem;\n",
       "  width: 1rem;\n",
       "  text-decoration: none;\n",
       "  /* unfitted */\n",
       "  color: var(--sklearn-color-unfitted-level-1);\n",
       "  border: var(--sklearn-color-unfitted-level-1) 1pt solid;\n",
       "}\n",
       "\n",
       "#sk-container-id-4 a.estimator_doc_link.fitted {\n",
       "  /* fitted */\n",
       "  border: var(--sklearn-color-fitted-level-1) 1pt solid;\n",
       "  color: var(--sklearn-color-fitted-level-1);\n",
       "}\n",
       "\n",
       "/* On hover */\n",
       "#sk-container-id-4 a.estimator_doc_link:hover {\n",
       "  /* unfitted */\n",
       "  background-color: var(--sklearn-color-unfitted-level-3);\n",
       "  color: var(--sklearn-color-background);\n",
       "  text-decoration: none;\n",
       "}\n",
       "\n",
       "#sk-container-id-4 a.estimator_doc_link.fitted:hover {\n",
       "  /* fitted */\n",
       "  background-color: var(--sklearn-color-fitted-level-3);\n",
       "}\n",
       "</style><div id=\"sk-container-id-4\" class=\"sk-top-container\"><div class=\"sk-text-repr-fallback\"><pre>KNeighborsClassifier()</pre><b>In a Jupyter environment, please rerun this cell to show the HTML representation or trust the notebook. <br />On GitHub, the HTML representation is unable to render, please try loading this page with nbviewer.org.</b></div><div class=\"sk-container\" hidden><div class=\"sk-item\"><div class=\"sk-estimator fitted sk-toggleable\"><input class=\"sk-toggleable__control sk-hidden--visually\" id=\"sk-estimator-id-4\" type=\"checkbox\" checked><label for=\"sk-estimator-id-4\" class=\"sk-toggleable__label fitted sk-toggleable__label-arrow fitted\">&nbsp;&nbsp;KNeighborsClassifier<a class=\"sk-estimator-doc-link fitted\" rel=\"noreferrer\" target=\"_blank\" href=\"https://scikit-learn.org/1.5/modules/generated/sklearn.neighbors.KNeighborsClassifier.html\">?<span>Documentation for KNeighborsClassifier</span></a><span class=\"sk-estimator-doc-link fitted\">i<span>Fitted</span></span></label><div class=\"sk-toggleable__content fitted\"><pre>KNeighborsClassifier()</pre></div> </div></div></div></div>"
      ],
      "text/plain": [
       "KNeighborsClassifier()"
      ]
     },
     "execution_count": 242,
     "metadata": {},
     "output_type": "execute_result"
    }
   ],
   "source": [
    " from sklearn.neighbors import KNeighborsClassifier\n",
    " y_train_large = (y_train >= 7)\n",
    " y_train_odd = (y_train % 2 == 1)\n",
    " y_multilabel = np.c_[y_train_large, y_train_odd]\n",
    " knn_clf = KNeighborsClassifier()\n",
    " knn_clf.fit(X_train, y_multilabel)\n",
    "\n",
    "# here also we are giving multiple labels, but to same digit image"
   ]
  },
  {
   "cell_type": "markdown",
   "id": "6d4a69ed-fa64-451e-869c-41e28110965e",
   "metadata": {},
   "source": [
    "A y_multilabel array containing two target labels for each digit image: the first indicates whether or not the digit is large (7, 8, or 9) and the second indicates whether or not it is odd. The next lines create a KNeighborsClassifier instance (which supports multilabel classification, but not all classifiers do) and we train it using the multiple targets array. "
   ]
  },
  {
   "cell_type": "code",
   "execution_count": 245,
   "id": "53b8de32-0dd1-4277-ab33-a32df444649b",
   "metadata": {},
   "outputs": [
    {
     "data": {
      "text/plain": [
       "array([[False,  True]])"
      ]
     },
     "execution_count": 245,
     "metadata": {},
     "output_type": "execute_result"
    }
   ],
   "source": [
    "knn_clf.predict([some_digit])"
   ]
  },
  {
   "cell_type": "code",
   "execution_count": 247,
   "id": "23428a46-88ce-4ca1-8acf-beb1ae71c5bc",
   "metadata": {},
   "outputs": [
    {
     "data": {
      "text/plain": [
       "0.9779052113107858"
      ]
     },
     "execution_count": 247,
     "metadata": {},
     "output_type": "execute_result"
    }
   ],
   "source": [
    "y_train_knn_pred = cross_val_predict(knn_clf, X_train, y_train, cv=3)\n",
    "f1_score(y_train, y_train_knn_pred, average=\"macro\")"
   ]
  },
  {
   "cell_type": "markdown",
   "id": "7a6e15b1-7ccb-4c21-a7dd-49c68eccf3e9",
   "metadata": {},
   "source": [
    "There are many ways to evaluate a multilabel classifier, and selecting the right metric really depends on your project. For example, one approach is to measure the F1\n",
    "score for each individual label (or any other binary classifier metric discussed earlier), then simply compute the average score. This code computes the average F1 score across all labels:"
   ]
  },
  {
   "cell_type": "markdown",
   "id": "59487b40-4fe7-4736-bdd1-e9d7238fb06c",
   "metadata": {},
   "source": [
    "The F1 score is a measure of a model's accuracy that considers both precision and recall. The `average=\"macro\"` parameter means that the F1 score will be calculated for each label independently and then averaged, treating all labels equally."
   ]
  },
  {
   "cell_type": "code",
   "execution_count": 251,
   "id": "300b21bc-f2e3-4fe2-95f9-faa2c6e6bda2",
   "metadata": {},
   "outputs": [
    {
     "data": {
      "text/plain": [
       "0.978"
      ]
     },
     "execution_count": 251,
     "metadata": {},
     "output_type": "execute_result"
    }
   ],
   "source": [
    "y_train_knn_pred = cross_val_predict(knn_clf, X_train, y_train, cv=3)\n",
    "f1_score(y_train, y_train_knn_pred, average=\"micro\")"
   ]
  },
  {
   "cell_type": "code",
   "execution_count": 253,
   "id": "1c2649bb-92ca-43a1-a71e-c3501f1a15c1",
   "metadata": {},
   "outputs": [
    {
     "data": {
      "text/plain": [
       "0.9779047774572887"
      ]
     },
     "execution_count": 253,
     "metadata": {},
     "output_type": "execute_result"
    }
   ],
   "source": [
    "y_train_knn_pred = cross_val_predict(knn_clf, X_train, y_train, cv=3)\n",
    "f1_score(y_train, y_train_knn_pred, average=\"weighted\")"
   ]
  },
  {
   "cell_type": "markdown",
   "id": "83359362-a646-4501-bd9c-d69f42a7ae15",
   "metadata": {},
   "source": [
    "micro:\n",
    "\n",
    "Calculates metrics globally by considering the sum of true positives, false negatives, and false positives across all classes.\n",
    "Good for imbalanced datasets when the class frequency is important.\n",
    "\n",
    "macro:\n",
    "\n",
    "Calculates metrics for each class independently and then averages them.\n",
    "Treats all classes equally, which may not work well with imbalanced datasets.\n",
    "\n",
    "weighted:\n",
    "\n",
    "Similar to macro, but it considers the support (number of true instances) for each class.\n",
    "Balances the impact of each class based on its frequency."
   ]
  },
  {
   "cell_type": "markdown",
   "id": "ad0883db-4ec3-4324-94e0-6d72d2b1a15a",
   "metadata": {},
   "source": [
    "This assumes that all labels are equally important, which may not be the case. In particular, if you have many more pictures of Alice than of Bob or Charlie, you may want to give more weight to the classifier’s score on pictures of Alice. One simple option is\n",
    "to give each label a weight equal to its support (i.e., the number of instances with that target label). To do this, simply set average=\"weighted\" in the preceding code."
   ]
  },
  {
   "cell_type": "markdown",
   "id": "24e83fef-0338-442c-9bd8-376064a7741b",
   "metadata": {},
   "source": [
    "### Multioutput Classification"
   ]
  },
  {
   "cell_type": "code",
   "execution_count": 302,
   "id": "7e633bb4-0f37-4801-b886-7e21294abbd1",
   "metadata": {},
   "outputs": [
    {
     "data": {
      "text/plain": [
       "64"
      ]
     },
     "execution_count": 302,
     "metadata": {},
     "output_type": "execute_result"
    }
   ],
   "source": [
    " X_train.shape[1]"
   ]
  },
  {
   "cell_type": "code",
   "execution_count": 304,
   "id": "5dc3272a-de47-4ce9-96fc-289f3fde3ab9",
   "metadata": {},
   "outputs": [
    {
     "data": {
      "text/plain": [
       "64"
      ]
     },
     "execution_count": 304,
     "metadata": {},
     "output_type": "execute_result"
    }
   ],
   "source": [
    " X_test.shape[1]"
   ]
  },
  {
   "cell_type": "code",
   "execution_count": 306,
   "id": "d676edd2-d9bd-471f-8a74-9bd8bcaa1dc8",
   "metadata": {},
   "outputs": [
    {
     "data": {
      "image/png": "[encoded data removed]",
      "text/plain": [
       "<Figure size 500x100 with 1 Axes>"
      ]
     },
     "metadata": {},
     "output_type": "display_data"
    }
   ],
   "source": [
    " knn_clf.fit(X_train, X_train)\n",
    " clean_digit = knn_clf.predict([X_test[1]])\n",
    " plot_digits(clean_digit)"
   ]
  },
  {
   "cell_type": "code",
   "execution_count": 308,
   "id": "aeff3cc9-e820-4b73-ad35-e3e4f47d0feb",
   "metadata": {},
   "outputs": [],
   "source": [
    " noise_tr = rnd.randint(0, 9, (len(X_train), 64))\n",
    " noise_te = rnd.randint(0, 9, (len(X_test), 64))\n",
    " X_train_mod = X_train + noise_tr\n",
    " X_test_mod = X_test + noise_te\n",
    " y_train_mod = X_train\n",
    " y_test_mod = X_test"
   ]
  },
  {
   "cell_type": "code",
   "execution_count": 310,
   "id": "a0ea3222-02b3-4113-b2c9-56379d9039ae",
   "metadata": {},
   "outputs": [
    {
     "data": {
      "image/png": "[encoded data removed]",
      "text/plain": [
       "<Figure size 500x100 with 1 Axes>"
      ]
     },
     "metadata": {},
     "output_type": "display_data"
    }
   ],
   "source": [
    " knn_clf.fit(X_train_mod, y_train_mod)\n",
    " clean_digit = knn_clf.predict([X_test_mod[1]])\n",
    " plot_digits(clean_digit)"
   ]
  },
  {
   "cell_type": "code",
   "execution_count": 312,
   "id": "71c8a573-7e6d-4ec5-9359-64d24456d977",
   "metadata": {},
   "outputs": [
    {
     "data": {
      "text/plain": [
       "4"
      ]
     },
     "execution_count": 312,
     "metadata": {},
     "output_type": "execute_result"
    }
   ],
   "source": [
    "y_test[1]"
   ]
  },
  {
   "cell_type": "code",
   "execution_count": 314,
   "id": "727c2d4d-68a6-4be9-bf2a-b417d1e1854a",
   "metadata": {},
   "outputs": [
    {
     "name": "stdout",
     "output_type": "stream",
     "text": [
      "(1797, 64)\n"
     ]
    },
    {
     "data": {
      "text/plain": [
       "<Figure size 640x480 with 0 Axes>"
      ]
     },
     "metadata": {},
     "output_type": "display_data"
    },
    {
     "data": {
      "image/png": "[encoded data removed]",
      "text/plain": [
       "<Figure size 480x480 with 1 Axes>"
      ]
     },
     "metadata": {},
     "output_type": "display_data"
    }
   ],
   "source": [
    "from sklearn.datasets import load_digits\n",
    "digits = load_digits()\n",
    "print(digits.data.shape)\n",
    "import matplotlib.pyplot as plt\n",
    "plt.gray()\n",
    "plt.matshow(digits.images[100])\n",
    "plt.show()"
   ]
  },
  {
   "cell_type": "markdown",
   "id": "6b166a36-4295-4869-a171-f916fc62d491",
   "metadata": {},
   "source": [
    "--------------------------------------------------------------------------------------------"
   ]
  },
  {
   "cell_type": "code",
   "execution_count": null,
   "id": "f47e7d27-da88-4dc4-ac87-4b81acf37ebb",
   "metadata": {},
   "outputs": [],
   "source": []
  }
 ],
 "metadata": {
  "kernelspec": {
   "display_name": "Python [conda env:base] *",
   "language": "python",
   "name": "conda-base-py"
  },
  "language_info": {
   "codemirror_mode": {
    "name": "ipython",
    "version": 3
   },
   "file_extension": ".py",
   "mimetype": "text/x-python",
   "name": "python",
   "nbconvert_exporter": "python",
   "pygments_lexer": "ipython3",
   "version": "3.12.7"
  }
 },
 "nbformat": 4,
 "nbformat_minor": 5
}
