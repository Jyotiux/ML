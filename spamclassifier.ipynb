{
 "cells": [
  {
   "cell_type": "markdown",
   "id": "a31c87f9-7eb9-4497-8c56-9aeca4680f35",
   "metadata": {},
   "source": [
    "Build a spam classifier (a more challenging exercise):\n",
    "\n",
    " • Download examples of spam and ham from Apache SpamAssassin’s public\n",
    " datasets.\n",
    " \n",
    " • Unzip the datasets and familiarize yourself with the data format.\n",
    " \n",
    " • Split the datasets into a training set and a test set.\n",
    " \n",
    " • Write a data preparation pipeline to convert each email into a feature vector.\n",
    " \n",
    " Your preparation pipeline should transform an email into a (sparse) vector\n",
    " indicating the presence or absence of each possible word. For example, if all\n",
    " emails only ever contain four words, “Hello,” “how,” “are,” “you,” then the email\n",
    " “Hello you Hello Hello you” would be converted into a vector [1, 0, 0, 1]\n",
    " (meaning [“Hello” is present, “how” is absent, “are” is absent, “you” is\n",
    " present]), or [3, 0, 0, 2] if you prefer to count the number of occurrences of\n",
    " each word.\n",
    " \n",
    " • You may want to add hyperparameters to your preparation pipeline to control\n",
    " whether or not to strip off email headers, convert each email to lowercase,\n",
    " remove punctuation, replace all URLs with “URL,” replace all numbers with\n",
    " “NUMBER,” or even perform stemming (i.e., trim off word endings; there are\n",
    " Python libraries available to do this).\n",
    " \n",
    " • Then try out several classifiers and see if you can build a great spam classifier,\n",
    " with both high recall and high precision."
   ]
  },
  {
   "cell_type": "code",
   "execution_count": 33,
   "id": "6510eb33-6b18-4849-b29c-3ca847cd1fa6",
   "metadata": {},
   "outputs": [],
   "source": [
    "import os\n",
    "import tarfile\n",
    "import urllib.request\n",
    "\n",
    "DOWNLOAD_ROOT = \"http://spamassassin.apache.org/old/publiccorpus/\"\n",
    "HAM_URL = DOWNLOAD_ROOT + \"20030228_easy_ham.tar.bz2\"\n",
    "SPAM_URL = DOWNLOAD_ROOT + \"20030228_spam.tar.bz2\"\n",
    "SPAM_PATH = os.path.join(\"datasets\", \"spam\")\n",
    "\n",
    "def fetch_spam_data(spam_url=SPAM_URL, spam_path=SPAM_PATH):\n",
    "    if not os.path.isdir(spam_path):\n",
    "        os.makedirs(spam_path)\n",
    "    for filename, url in ((\"ham.tar.bz2\", HAM_URL), (\"spam.tar.bz2\", SPAM_URL)):\n",
    "        path = os.path.join(spam_path, filename)\n",
    "        if not os.path.isfile(path):\n",
    "            urllib.request.urlretrieve(url, path)\n",
    "        tar_bz2_file = tarfile.open(path)\n",
    "        tar_bz2_file.extractall(path=SPAM_PATH)\n",
    "        tar_bz2_file.close()"
   ]
  },
  {
   "cell_type": "markdown",
   "id": "1ea36b1c-47d1-4b02-b9bf-eddac06d20c2",
   "metadata": {},
   "source": [
    "The dataset folder exists.\n",
    "\n",
    "The datasets are downloaded only if they are not already present.\n",
    "\n",
    "The .tar.bz2 files are extracted for further processing."
   ]
  },
  {
   "cell_type": "code",
   "execution_count": 36,
   "id": "06b68a29-5c9a-4c7d-ad01-6698171e9172",
   "metadata": {},
   "outputs": [
    {
     "name": "stderr",
     "output_type": "stream",
     "text": [
      "C:\\Users\\JYOTI\\AppData\\Local\\Temp\\ipykernel_9520\\2197429523.py:18: DeprecationWarning: Python 3.14 will, by default, filter extracted tar archives and reject files or modify their metadata. Use the filter argument to control this behavior.\n",
      "  tar_bz2_file.extractall(path=SPAM_PATH)\n"
     ]
    }
   ],
   "source": [
    "fetch_spam_data()"
   ]
  },
  {
   "cell_type": "code",
   "execution_count": 37,
   "id": "307d7f81-0417-4e3d-ae39-7fe769bb2227",
   "metadata": {},
   "outputs": [],
   "source": [
    "HAM_DIR = os.path.join(SPAM_PATH, \"easy_ham\")\n",
    "SPAM_DIR = os.path.join(SPAM_PATH, \"spam\")\n",
    "ham_filenames = [name for name in sorted(os.listdir(HAM_DIR)) if len(name) > 20]\n",
    "spam_filenames = [name for name in sorted(os.listdir(SPAM_DIR)) if len(name) > 20]"
   ]
  },
  {
   "cell_type": "markdown",
   "id": "d1e45a62-de8d-46a0-8adf-092f24fdd396",
   "metadata": {},
   "source": [
    "To remove unwanted files (e.g., hidden system files or metadata files that may have short names).\n",
    "\n",
    "Email files in the dataset likely have long, unique names (e.g., message IDs).\n",
    "\n",
    "Ensures only real email files are processed, avoiding errors when parsing email contents."
   ]
  },
  {
   "cell_type": "code",
   "execution_count": 39,
   "id": "516a1bdd-ce68-49fa-bf60-2c445355e2b1",
   "metadata": {},
   "outputs": [
    {
     "data": {
      "text/plain": [
       "2500"
      ]
     },
     "execution_count": 39,
     "metadata": {},
     "output_type": "execute_result"
    }
   ],
   "source": [
    "len(ham_filenames)"
   ]
  },
  {
   "cell_type": "code",
   "execution_count": 43,
   "id": "b7ce0445-f9f1-49b0-8da8-a7a91df9b637",
   "metadata": {},
   "outputs": [
    {
     "data": {
      "text/plain": [
       "500"
      ]
     },
     "execution_count": 43,
     "metadata": {},
     "output_type": "execute_result"
    }
   ],
   "source": [
    "len(spam_filenames)"
   ]
  },
  {
   "cell_type": "code",
   "execution_count": 45,
   "id": "6d9da8f1-768b-45a6-8859-b41f242f6b71",
   "metadata": {},
   "outputs": [],
   "source": [
    "import email\n",
    "import email.policy\n",
    "\n",
    "def load_email(is_spam, filename, spam_path=SPAM_PATH):\n",
    "    directory = \"spam\" if is_spam else \"easy_ham\"\n",
    "    with open(os.path.join(spam_path, directory, filename), \"rb\") as f:\n",
    "        return email.parser.BytesParser(policy=email.policy.default).parse(f)"
   ]
  },
  {
   "cell_type": "markdown",
   "id": "d52811ea-38d9-478f-8156-7924a2d825f0",
   "metadata": {},
   "source": [
    "Reads a spam or ham email file from the dataset.\n",
    "\n",
    "Parses the email using Python's email module.\n",
    "\n",
    "Returns an EmailMessage object, which contains the email body, headers, and attachments."
   ]
  },
  {
   "cell_type": "code",
   "execution_count": 48,
   "id": "2008ffeb-fceb-42aa-a32a-7dd7428982cf",
   "metadata": {},
   "outputs": [],
   "source": [
    "ham_emails = [load_email(is_spam=False, filename=name) for name in ham_filenames]\n",
    "spam_emails = [load_email(is_spam=True, filename=name) for name in spam_filenames]"
   ]
  },
  {
   "cell_type": "code",
   "execution_count": 49,
   "id": "8ca5ab8d-7b5a-4f98-a01e-57fe702536e3",
   "metadata": {},
   "outputs": [
    {
     "name": "stdout",
     "output_type": "stream",
     "text": [
      "Martin A posted:\n",
      "Tassos Papadopoulos, the Greek sculptor behind the plan, judged that the\n",
      " limestone of Mount Kerdylio, 70 miles east of Salonika and not far from the\n",
      " Mount Athos monastic community, was ideal for the patriotic sculpture. \n",
      " \n",
      " As well as Alexander's granite features, 240 ft high and 170 ft wide, a\n",
      " museum, a restored amphitheatre and car park for admiring crowds are\n",
      "planned\n",
      "---------------------\n",
      "So is this mountain limestone or granite?\n",
      "If it's limestone, it'll weather pretty fast.\n",
      "\n",
      "------------------------ Yahoo! Groups Sponsor ---------------------~-->\n",
      "4 DVDs Free +s&p Join Now\n",
      "http://us.click.yahoo.com/pt6YBB/NXiEAA/mG3HAA/7gSolB/TM\n",
      "---------------------------------------------------------------------~->\n",
      "\n",
      "To unsubscribe from this group, send an email to:\n",
      "forteana-unsubscribe@egroups.com\n",
      "\n",
      " \n",
      "\n",
      "Your use of Yahoo! Groups is subject to http://docs.yahoo.com/info/terms/\n"
     ]
    }
   ],
   "source": [
    "print(ham_emails[1].get_content().strip())"
   ]
  },
  {
   "cell_type": "code",
   "execution_count": 52,
   "id": "986f1aff-71c5-43ad-956b-1f5fda21d805",
   "metadata": {},
   "outputs": [
    {
     "name": "stdout",
     "output_type": "stream",
     "text": [
      "Help wanted.  We are a 14 year old fortune 500 company, that is\n",
      "growing at a tremendous rate.  We are looking for individuals who\n",
      "want to work from home.\n",
      "\n",
      "This is an opportunity to make an excellent income.  No experience\n",
      "is required.  We will train you.\n",
      "\n",
      "So if you are looking to be employed from home with a career that has\n",
      "vast opportunities, then go:\n",
      "\n",
      "http://www.basetel.com/wealthnow\n",
      "\n",
      "We are looking for energetic and self motivated people.  If that is you\n",
      "than click on the link and fill out the form, and one of our\n",
      "employement specialist will contact you.\n",
      "\n",
      "To be removed from our link simple go to:\n",
      "\n",
      "http://www.basetel.com/remove.html\n",
      "\n",
      "\n",
      "4139vOLW7-758DoDY1425FRhM1-764SMFc8513fCsLl40\n"
     ]
    }
   ],
   "source": [
    "print(spam_emails[6].get_content().strip())"
   ]
  },
  {
   "cell_type": "code",
   "execution_count": 54,
   "id": "21513c89-588a-496a-a2c4-6ae15f58456d",
   "metadata": {},
   "outputs": [],
   "source": [
    "def get_email_structure(email):\n",
    "    if isinstance(email, str):\n",
    "        return email\n",
    "    payload = email.get_payload()\n",
    "    if isinstance(payload, list):\n",
    "        return \"multipart({})\".format(\", \".join([\n",
    "            get_email_structure(sub_email)\n",
    "            for sub_email in payload\n",
    "        ]))\n",
    "    else:\n",
    "        return email.get_content_type()"
   ]
  },
  {
   "cell_type": "markdown",
   "id": "9dcae36c-eaf5-409c-90b5-f08fd4d6906e",
   "metadata": {},
   "source": [
    "If email is already a string, it means the function was called incorrectly.\n",
    "    \n",
    "In that case, it simply returns the string as-is.\n",
    "\n",
    "email.get_payload() extracts the content (body) of the email.\n",
    "    \n",
    "The payload can be:\n",
    "\n",
    "A string → A simple email with plain text or HTML content.\n",
    "    \n",
    "A list → A multipart email (e.g., emails with attachments, HTML+text versions).\n",
    "\n",
    "If the payload is a list, it means the email is multipart (contains multiple parts like text, HTML, attachments).\n",
    "\n",
    "The function recursively checks the structure of each sub-part.\n",
    "\n",
    "It processes each part of the multipart email using recursion.\n",
    "\n",
    "The get_email_structure(sub_email) function is called on each subpart.\n",
    "\n",
    "The results are joined into a single string, describing the structure of the email.\n",
    "\n",
    "If the email is not multipart, it returns the content type (e.g., \"text/plain\", \"text/html\", \"application/pdf\", etc.)."
   ]
  },
  {
   "cell_type": "code",
   "execution_count": 57,
   "id": "7002c301-5445-4c64-993c-370f93d74cae",
   "metadata": {},
   "outputs": [],
   "source": [
    "from collections import Counter\n",
    "\n",
    "def structures_counter(emails):\n",
    "    structures = Counter()\n",
    "    for email in emails:\n",
    "        structure = get_email_structure(email)\n",
    "        structures[structure] += 1\n",
    "    return structures"
   ]
  },
  {
   "cell_type": "markdown",
   "id": "7a7039db-4a5e-4c1c-9802-3ff31d711ede",
   "metadata": {},
   "source": [
    "Counter from the collections module is used to count occurrences of different email structures.\n",
    "\n",
    "A Counter dictionary is created to store the frequency of each email structure.\n",
    "The keys in this Counter will be email structures (e.g., \"text/plain\", \"multipart(text/plain, text/html)\"), and the values will be counts.\n",
    "\n",
    "This loops through each email object in the emails list.\n",
    "\n",
    "The Counter dictionary is updated to increase the count for this particular email structure.\n",
    "\n",
    "After processing all emails, the function returns the Counter dictionary containing the frequency of each structure."
   ]
  },
  {
   "cell_type": "code",
   "execution_count": 60,
   "id": "41843a95-7650-46df-aed2-7c814ce7c852",
   "metadata": {},
   "outputs": [
    {
     "data": {
      "text/plain": [
       "[('text/plain', 2408),\n",
       " ('multipart(text/plain, application/pgp-signature)', 66),\n",
       " ('multipart(text/plain, text/html)', 8),\n",
       " ('multipart(text/plain, text/plain)', 4),\n",
       " ('multipart(text/plain)', 3),\n",
       " ('multipart(text/plain, application/octet-stream)', 2),\n",
       " ('multipart(text/plain, text/enriched)', 1),\n",
       " ('multipart(text/plain, application/ms-tnef, text/plain)', 1),\n",
       " ('multipart(multipart(text/plain, text/plain, text/plain), application/pgp-signature)',\n",
       "  1),\n",
       " ('multipart(text/plain, video/mng)', 1),\n",
       " ('multipart(text/plain, multipart(text/plain))', 1),\n",
       " ('multipart(text/plain, application/x-pkcs7-signature)', 1),\n",
       " ('multipart(text/plain, multipart(text/plain, text/plain), text/rfc822-headers)',\n",
       "  1),\n",
       " ('multipart(text/plain, multipart(text/plain, text/plain), multipart(multipart(text/plain, application/x-pkcs7-signature)))',\n",
       "  1),\n",
       " ('multipart(text/plain, application/x-java-applet)', 1)]"
      ]
     },
     "execution_count": 60,
     "metadata": {},
     "output_type": "execute_result"
    }
   ],
   "source": [
    "structures_counter(ham_emails).most_common()"
   ]
  },
  {
   "cell_type": "markdown",
   "id": "705e2b3c-26c9-4f29-9cec-f702bf943496",
   "metadata": {},
   "source": [
    "This method sorts the Counter dictionary from most to least frequent and returns a list of tuples."
   ]
  },
  {
   "cell_type": "code",
   "execution_count": 63,
   "id": "9a87ecf4-0d7a-40cb-8264-04e6bb4624d9",
   "metadata": {},
   "outputs": [
    {
     "data": {
      "text/plain": [
       "[('text/plain', 218),\n",
       " ('text/html', 183),\n",
       " ('multipart(text/plain, text/html)', 45),\n",
       " ('multipart(text/html)', 20),\n",
       " ('multipart(text/plain)', 19),\n",
       " ('multipart(multipart(text/html))', 5),\n",
       " ('multipart(text/plain, image/jpeg)', 3),\n",
       " ('multipart(text/html, application/octet-stream)', 2),\n",
       " ('multipart(text/plain, application/octet-stream)', 1),\n",
       " ('multipart(text/html, text/plain)', 1),\n",
       " ('multipart(multipart(text/html), application/octet-stream, image/jpeg)', 1),\n",
       " ('multipart(multipart(text/plain, text/html), image/gif)', 1),\n",
       " ('multipart/alternative', 1)]"
      ]
     },
     "execution_count": 63,
     "metadata": {},
     "output_type": "execute_result"
    }
   ],
   "source": [
    "structures_counter(spam_emails).most_common()"
   ]
  },
  {
   "cell_type": "code",
   "execution_count": 65,
   "id": "e3044472-0478-4a7a-bf42-e309aa23fe40",
   "metadata": {},
   "outputs": [
    {
     "name": "stdout",
     "output_type": "stream",
     "text": [
      "Return-Path : <12a1mailbot1@web.de>\n",
      "Delivered-To : zzzz@localhost.spamassassin.taint.org\n",
      "Received : from localhost (localhost [127.0.0.1])\tby phobos.labs.spamassassin.taint.org (Postfix) with ESMTP id 136B943C32\tfor <zzzz@localhost>; Thu, 22 Aug 2002 08:17:21 -0400 (EDT)\n",
      "Received : from mail.webnote.net [193.120.211.219]\tby localhost with POP3 (fetchmail-5.9.0)\tfor zzzz@localhost (single-drop); Thu, 22 Aug 2002 13:17:21 +0100 (IST)\n",
      "Received : from dd_it7 ([210.97.77.167])\tby webnote.net (8.9.3/8.9.3) with ESMTP id NAA04623\tfor <zzzz@spamassassin.taint.org>; Thu, 22 Aug 2002 13:09:41 +0100\n",
      "From : 12a1mailbot1@web.de\n",
      "Received : from r-smtp.korea.com - 203.122.2.197 by dd_it7  with Microsoft SMTPSVC(5.5.1775.675.6);\t Sat, 24 Aug 2002 09:42:10 +0900\n",
      "To : dcek1a1@netsgo.com\n",
      "Subject : Life Insurance - Why Pay More?\n",
      "Date : Wed, 21 Aug 2002 20:31:57 -1600\n",
      "MIME-Version : 1.0\n",
      "Message-ID : <0103c1042001882DD_IT7@dd_it7>\n",
      "Content-Type : text/html; charset=\"iso-8859-1\"\n",
      "Content-Transfer-Encoding : quoted-printable\n"
     ]
    }
   ],
   "source": [
    "for header, value in spam_emails[0].items():\n",
    "    print(header,\":\",value)"
   ]
  },
  {
   "cell_type": "markdown",
   "id": "faa8f975-c736-4e3e-bc1e-7171c893f446",
   "metadata": {},
   "source": [
    "spam_emails[0]\n",
    "\n",
    "Accesses the first email in the list spam_emails.\n",
    "spam_emails contains email objects parsed using the email library.\n",
    ".items()\n",
    "\n",
    "spam_emails[0].items() returns all headers as (header, value) pairs.\n",
    "Loop through headers\n",
    "\n",
    "Iterates over the headers and prints them in \"Header: Value\" format."
   ]
  },
  {
   "cell_type": "code",
   "execution_count": 68,
   "id": "c5aef788-871f-42db-9a60-de1821d4b74c",
   "metadata": {},
   "outputs": [
    {
     "data": {
      "text/plain": [
       "'Life Insurance - Why Pay More?'"
      ]
     },
     "execution_count": 68,
     "metadata": {},
     "output_type": "execute_result"
    }
   ],
   "source": [
    "spam_emails[0][\"Subject\"]"
   ]
  },
  {
   "cell_type": "markdown",
   "id": "ae3812bc-197f-4392-bae3-3c692f584d54",
   "metadata": {},
   "source": [
    "Okay, before we learn too much about the data, let's not forget to split it into a training set and a test set:"
   ]
  },
  {
   "cell_type": "code",
   "execution_count": 71,
   "id": "079e0e88-6b2c-4c0f-855e-3818c208ae24",
   "metadata": {},
   "outputs": [],
   "source": [
    "import numpy as np\n",
    "from sklearn.model_selection import train_test_split\n",
    "\n",
    "X = np.array(ham_emails + spam_emails, dtype=object)\n",
    "y = np.array([0] * len(ham_emails) + [1] * len(spam_emails))\n",
    "\n",
    "X_train, X_test, y_train, y_test = train_test_split(X, y, test_size=0.2, random_state=42)"
   ]
  },
  {
   "cell_type": "markdown",
   "id": "c27f4a96-be28-4b38-9931-048df7b7834b",
   "metadata": {},
   "source": [
    "Okay, let's start writing the preprocessing functions. First, we will need a function to convert HTML to plain text. Arguably the best way to do this would be to use the great BeautifulSoup library, but I would like to avoid adding another dependency to this project, so let's hack a quick & dirty solution using regular expressions. The following function first drops the head section, then converts all a tags to the word Hyperlink, then it gets rid of all HTML tags, leaving only the plain text. For readability, it also replaces multiple newlines with single newlines, and finally it unescapes html entities (such as &gt; or &nbsp;):"
   ]
  },
  {
   "cell_type": "code",
   "execution_count": 82,
   "id": "c9b8d43f-989a-49e9-99f9-742e16881a2d",
   "metadata": {},
   "outputs": [],
   "source": [
    "import re\n",
    "from html import unescape\n",
    "\n",
    "def html_to_plain_text(html):\n",
    "    # Removing the <head>...</head> section (metadata, scripts, etc.).\n",
    "    text = re.sub('<head.*?>.*?</head>', '', html, flags=re.M | re.S | re.I)\n",
    "    # Replacing <a> (anchor) tags with \"HYPERLINK\" to keep track of links.\n",
    "    text = re.sub('<a\\\\s.*?>', ' HYPERLINK ', text, flags=re.M | re.S | re.I)\n",
    "    # Removing all other HTML tags to extract pure text.\n",
    "    text = re.sub('<.*?>', '', text, flags=re.M | re.S)\n",
    "    # Cleaning up excessive newlines (\\n) for better formatting.\n",
    "    text = re.sub(r'(\\\\s*\\\\n)+', '\\n', text, flags=re.M | re.S)\n",
    "    # Decoding HTML entities (like &lt; → <, &amp; → &).\n",
    "    return unescape(text)\n",
    "    "
   ]
  },
  {
   "cell_type": "markdown",
   "id": "591a5fb4-ea6e-4d3e-af4b-17f89be18e2b",
   "metadata": {},
   "source": [
    "1-------------------------------------------------\n",
    "\n",
    "Pattern\tMeaning\n",
    "\n",
    "<head\tMatches the opening <head tag.\n",
    "                                \n",
    ".*?\tMatches anything (non-greedy mode).\n",
    "\n",
    ">\tMatches the closing > of the <head> tag.\n",
    ">\n",
    ".*?\tMatches everything inside the <head> section.\n",
    "\n",
    "</head>\tMatches the </head> closing tag.\n",
    "\n",
    "Flags Used:\t\n",
    "\n",
    "re.M (Multiline)\tAllows matching across multiple lines.\n",
    "\n",
    "re.S (DotAll)\tAllows . to match newlines (\\n).\n",
    "\n",
    "re.I (IgnoreCase)\tMakes it case-insensitive (e.g., <HEAD> still matches\n",
    "\n",
    " Effect: Removes everything inside <head>...</head>.\n",
    "\n",
    "2-----------------------------------------------\n",
    "\n",
    "\n",
    "Pattern\tMeaning\n",
    "\n",
    "<a\tMatches the opening <a tag.\n",
    "\n",
    "\\s\tMatches any whitespace (space, tab, newline).\n",
    "\n",
    ".*?\tMatches everything inside the tag (non-greedy).\n",
    "\n",
    ">\tMatches the closing > of the anchor tag.\n",
    "\n",
    "Effect: Replaces <a href=\"...\"> and similar tags with \"HYPERLINK\".\n",
    "\n",
    "3----------------------------------------------\n",
    "\n",
    "Pattern\tMeaning\n",
    "<\tMatches the opening <.\n",
    "\n",
    ".*?\tMatches everything inside (non-greedy).\n",
    "\n",
    ">\tMatches the closing >.\n",
    "\n",
    "4-----------------------------------------------\n",
    "Pattern\tMeaning\n",
    "\n",
    "\\s*\tMatches optional spaces before a newline.\n",
    "\n",
    "\\n\tMatches a newline.\n",
    "\n",
    "(\\s*\\n)+\tMatches multiple blank lines together.\n",
    "\n",
    " Effect: Removes all HTML tags, leaving only plain text.\n",
    "\n",
    "5-----------------------------------------------\n",
    "\n",
    " Effect: Converts special HTML entities like:\n",
    "\n",
    "&lt; → <\n",
    "\n",
    "&amp; → &\n",
    "\n",
    "&quot; → \"\n"
   ]
  },
  {
   "cell_type": "markdown",
   "id": "383e237c-895a-4224-9391-38b4872d2aa0",
   "metadata": {},
   "source": [
    "\n",
    "Let's see if it works. This is HTML spam:"
   ]
  },
  {
   "cell_type": "code",
   "execution_count": 94,
   "id": "83488a8e-2a7c-4357-a1e2-bf582e4df898",
   "metadata": {
    "scrolled": true
   },
   "outputs": [
    {
     "name": "stdout",
     "output_type": "stream",
     "text": [
      "<HTML><HEAD><TITLE></TITLE><META http-equiv=\"Content-Type\" content=\"text/html; charset=windows-1252\"><STYLE>A:link {TEX-DECORATION: none}A:active {TEXT-DECORATION: none}A:visited {TEXT-DECORATION: none}A:hover {COLOR: #0033ff; TEXT-DECORATION: underline}</STYLE><META content=\"MSHTML 6.00.2713.1100\" name=\"GENERATOR\"></HEAD>\n",
      "<BODY text=\"#000000\" vLink=\"#0033ff\" link=\"#0033ff\" bgColor=\"#CCCC99\"><TABLE borderColor=\"#660000\" cellSpacing=\"0\" cellPadding=\"0\" border=\"0\" width=\"100%\"><TR><TD bgColor=\"#CCCC99\" valign=\"top\" colspan=\"2\" height=\"27\">\n",
      "<font size=\"6\" face=\"Arial, Helvetica, sans-serif\" color=\"#660000\">\n",
      "<b>OTC</b></font></TD></TR><TR><TD height=\"2\" bgcolor=\"#6a694f\">\n",
      "<font size=\"5\" face=\"Times New Roman, Times, serif\" color=\"#FFFFFF\">\n",
      "<b>&nbsp;Newsletter</b></font></TD><TD height=\"2\" bgcolor=\"#6a694f\"><div align=\"right\"><font color=\"#FFFFFF\">\n",
      "<b>Discover Tomorrow's Winners&nbsp;</b></font></div></TD></TR><TR><TD height=\"25\" colspan=\"2\" bgcolor=\"#CCCC99\"><table width=\"100%\" border=\"0\"  ...\n"
     ]
    }
   ],
   "source": [
    "html_spam_emails = [email for email in X_train[y_train==1]\n",
    "                    if get_email_structure(email) == \"text/html\"]\n",
    "sample_html_spam = html_spam_emails[7]\n",
    "print(sample_html_spam.get_content().strip()[:1000], \"...\")\n"
   ]
  },
  {
   "cell_type": "markdown",
   "id": "77d29c7c-bc47-4a47-a003-541b0d2bf958",
   "metadata": {},
   "source": [
    "\n",
    "And this is the resulting plain text:"
   ]
  },
  {
   "cell_type": "code",
   "execution_count": 97,
   "id": "33f6a0ca-9233-4567-8da3-e07f5982084b",
   "metadata": {},
   "outputs": [
    {
     "name": "stdout",
     "output_type": "stream",
     "text": [
      "\n",
      "\n",
      "\n",
      "OTC\n",
      "\n",
      " Newsletter\n",
      "Discover Tomorrow's Winners \n",
      "\n",
      "For Immediate Release\n",
      "\n",
      "Cal-Bay (Stock Symbol: CBYI)\n",
      "Watch for analyst \"Strong Buy Recommendations\" and several advisory newsletters picking CBYI.  CBYI has filed to be traded on the OTCBB, share prices historically INCREASE when companies get listed on this larger trading exchange. CBYI is trading around 25 cents and should skyrocket to $2.66 - $3.25 a share in the near future.\n",
      "Put CBYI on your watch list, acquire a position TODAY.\n",
      "\n",
      "REASONS TO INVEST IN CBYI\n",
      "\n",
      "A profitable company and is on track to beat ALL earnings estimates!\n",
      "\n",
      "One of the FASTEST growing distributors in environmental & safety equipment instruments.\n",
      "\n",
      "Excellent management team, several EXCLUSIVE contracts.  IMPRESSIVE client list including the U.S. Air Force, Anheuser-Busch, Chevron Refining and Mitsubishi Heavy Industries, GE-Energy & Environmental Research.\n",
      "\n",
      "RAPIDLY GROWING INDUSTRY\n",
      "Industry revenues exceed $900 million, estimates indicate that there could be as much as ...\n"
     ]
    }
   ],
   "source": [
    "print(html_to_plain_text(sample_html_spam.get_content())[:1000], \"...\")"
   ]
  },
  {
   "cell_type": "code",
   "execution_count": 99,
   "id": "314ea590-d0b8-4e83-9639-2b50bed65cce",
   "metadata": {},
   "outputs": [],
   "source": [
    "\n",
    "def email_to_text(email):\n",
    "    # A variable html is initialized to store HTML content\n",
    "    html = None\n",
    "    # email.walk() is used to iterate over all parts of the email.\n",
    "    for part in email.walk():\n",
    "        # This retrieves the MIME type of the part.\n",
    "        ctype = part.get_content_type()\n",
    "        # Skips attachments or other non-text parts (like images, PDFs, etc.).\n",
    "        # Continues only if the part is \"text/plain\" or \"text/html\".\n",
    "        if not ctype in (\"text/plain\", \"text/html\"):\n",
    "            continue\n",
    "        # part.get_content() extracts the email body.\n",
    "        # If there's an encoding issue, get_payload() is used as a fallback.\n",
    "        try:\n",
    "            content = part.get_content()\n",
    "        except: # in case of encoding issues\n",
    "            content = str(part.get_payload())\n",
    "        # If the email contains plain text, return it immediately\n",
    "        if ctype == \"text/plain\":\n",
    "            return content\n",
    "        # If the email contains HTML, store it in html for later conversion.\n",
    "        else:\n",
    "            html = content\n",
    "    # If only an HTML version exists, convert it to plain text\n",
    "    if html:\n",
    "        return html_to_plain_text(html)"
   ]
  },
  {
   "cell_type": "code",
   "execution_count": 102,
   "id": "032b0e1f-bb52-4eee-a35a-f81581903b3d",
   "metadata": {},
   "outputs": [
    {
     "name": "stdout",
     "output_type": "stream",
     "text": [
      "\n",
      "\n",
      "\n",
      "OTC\n",
      "\n",
      " Newsletter\n",
      "Discover Tomorrow's Winners \n",
      "\n",
      "For Immediate Release\n",
      "\n",
      "Cal-Bay (Stock Symbol: CBYI ...\n"
     ]
    }
   ],
   "source": [
    "print(email_to_text(sample_html_spam)[:100], \"...\")"
   ]
  },
  {
   "cell_type": "markdown",
   "id": "ab8e6be8-60ab-426f-9ed7-309cfe932154",
   "metadata": {},
   "source": [
    "$ pip3 install urlextract"
   ]
  },
  {
   "cell_type": "code",
   "execution_count": 105,
   "id": "57250397-a3e8-46b4-8d9b-7444177da241",
   "metadata": {},
   "outputs": [
    {
     "name": "stdout",
     "output_type": "stream",
     "text": [
      "Requirement already satisfied: urlextract in c:\\users\\jyoti\\anaconda3\\lib\\site-packages (1.9.0)\n",
      "Requirement already satisfied: idna in c:\\users\\jyoti\\anaconda3\\lib\\site-packages (from urlextract) (3.7)\n",
      "Requirement already satisfied: uritools in c:\\users\\jyoti\\anaconda3\\lib\\site-packages (from urlextract) (4.0.3)\n",
      "Requirement already satisfied: platformdirs in c:\\users\\jyoti\\anaconda3\\lib\\site-packages (from urlextract) (3.10.0)\n",
      "Requirement already satisfied: filelock in c:\\users\\jyoti\\anaconda3\\lib\\site-packages (from urlextract) (3.13.1)\n",
      "Note: you may need to restart the kernel to use updated packages.\n"
     ]
    }
   ],
   "source": [
    "%pip install urlextract"
   ]
  },
  {
   "cell_type": "code",
   "execution_count": 107,
   "id": "ade23dcf-1b20-4938-941a-476610eb5b9d",
   "metadata": {},
   "outputs": [
    {
     "name": "stdout",
     "output_type": "stream",
     "text": [
      "['github.com', 'https://youtu.be/7Pq-S557XQU?t=3m32s']\n"
     ]
    }
   ],
   "source": [
    "try:\n",
    "    import urlextract # may require an Internet connection to download root domain names\n",
    "    \n",
    "    url_extractor = urlextract.URLExtract()\n",
    "    print(url_extractor.find_urls(\"Will it detect github.com and https://youtu.be/7Pq-S557XQU?t=3m32s\"))\n",
    "except ImportError:\n",
    "    print(\"Error: replacing URLs requires the urlextract module.\")\n",
    "    url_extractor = None"
   ]
  },
  {
   "cell_type": "code",
   "execution_count": 109,
   "id": "eba67226-52d4-4dfb-858f-bda81ce3aaad",
   "metadata": {},
   "outputs": [],
   "source": [
    "# from sklearn.base import BaseEstimator, TransformerMixin\n",
    "\n",
    "# class EmailToWordCounterTransformer(BaseEstimator, TransformerMixin):\n",
    "#     def __init__(self, strip_headers=True, lower_case=True, remove_punctuation=True,\n",
    "#                  replace_urls=True, replace_numbers=True, stemming=True):\n",
    "#         self.strip_headers = strip_headers\n",
    "#         self.lower_case = lower_case\n",
    "#         self.remove_punctuation = remove_punctuation\n",
    "#         self.replace_urls = replace_urls\n",
    "#         self.replace_numbers = replace_numbers\n",
    "#         self.stemming = stemming\n",
    "#     def fit(self, X, y=None):\n",
    "#         return self\n",
    "#     def transform(self, X, y=None):\n",
    "#         X_transformed = []\n",
    "#         for email in X:\n",
    "#             text = email_to_text(email) or \"\"\n",
    "#             if self.lower_case:\n",
    "#                 text = text.lower()\n",
    "#             if self.replace_urls and url_extractor is not None:\n",
    "#                 urls = list(set(url_extractor.find_urls(text)))\n",
    "#                 urls.sort(key=lambda url: len(url), reverse=True)\n",
    "#                 for url in urls:\n",
    "#                     text = text.replace(url, \" URL \")\n",
    "#             if self.replace_numbers:\n",
    "#                 text = re.sub(r'\\d+(?:\\.\\d*)?(?:[eE][+-]?\\d+)?', 'NUMBER', text)\n",
    "#             if self.remove_punctuation:\n",
    "#                 text = re.sub(r'\\W+', ' ', text, flags=re.M)\n",
    "#             word_counts = Counter(text.split())\n",
    "#             if self.stemming and stemmer is not None:\n",
    "#                 stemmed_word_counts = Counter()\n",
    "#                 for word, count in word_counts.items():\n",
    "#                     stemmed_word = stemmer.stem(word)\n",
    "#                     stemmed_word_counts[stemmed_word] += count\n",
    "#                 word_counts = stemmed_word_counts\n",
    "#             X_transformed.append(word_counts)\n",
    "#         return np.array(X_transformed)"
   ]
  },
  {
   "cell_type": "code",
   "execution_count": 131,
   "id": "16bd6839-13b0-40b6-bca8-3945419129fc",
   "metadata": {},
   "outputs": [],
   "source": [
    "from sklearn.base import BaseEstimator, TransformerMixin\n",
    "# BaseEstimator, TransformerMixin: Allows this transformer to be used in sklearn pipelines.\n",
    "import re\n",
    "# re: Used for regex-based text cleaning.\n",
    "import numpy as np\n",
    "from collections import Counter\n",
    "# Used to count word occurrences.\n",
    "from nltk.stem import PorterStemmer\n",
    "# Used for stemming words.\n",
    "\n",
    "class EmailToWordCounterTransformer(BaseEstimator, TransformerMixin):\n",
    "    def __init__(self, strip_headers=True, lower_case=True, remove_punctuation=True,\n",
    "                 replace_urls=True, replace_numbers=True, stemming=True):\n",
    "        self.strip_headers = strip_headers\n",
    "        self.lower_case = lower_case\n",
    "        self.remove_punctuation = remove_punctuation\n",
    "        self.replace_urls = replace_urls\n",
    "        self.replace_numbers = replace_numbers\n",
    "        self.stemming = stemming\n",
    "        self.stemmer = PorterStemmer()  # Initialize Porter Stemmer\n",
    "\n",
    "    def fit(self, X, y=None):\n",
    "        return self\n",
    "        # Since transformers in scikit-learn require fit(), this function simply returns self without modifying data.\n",
    "    \n",
    "    def transform(self, X, y=None):\n",
    "        #  X is a list of emails.\n",
    "        # We iterate over each email and apply text preprocessing.\n",
    "        X_transformed = []\n",
    "        for email in X:\n",
    "            text = email_to_text(email) or \"\"\n",
    "            # Converts the email into plain text (either \"text/plain\" or \"text/html\").\n",
    "            #  Uses email_to_text(email), which extracts text from email objects.\n",
    "            if self.lower_case:\n",
    "                text = text.lower()\n",
    "             # Ensures case insensitivity by converting all text to lowercase.\n",
    "            if self.replace_urls:\n",
    "                text = re.sub(r'https?://\\S+', ' URL ', text)\n",
    "             # Uses regex (re.sub()) to replace all links (http:// or https://) with \"URL\".\n",
    "            if self.replace_numbers:\n",
    "                text = re.sub(r'\\d+', ' NUMBER ', text)\n",
    "             # Uses regex (\\d+) to replace all numbers with \"NUMBER\".\n",
    "            if self.remove_punctuation:\n",
    "                text = re.sub(r'\\W+', ' ', text)\n",
    "             # Removes all non-word characters (\\W+), leaving only letters and spaces.\n",
    "            \n",
    "            word_counts = Counter(text.split())\n",
    "             # Splits text into words and counts occurrences using Counter.\n",
    "\n",
    "            if self.stemming:\n",
    "                stemmed_word_counts = Counter()\n",
    "                for word, count in word_counts.items():\n",
    "                    stemmed_word = self.stemmer.stem(word)  # Use self.stemmer\n",
    "                    stemmed_word_counts[stemmed_word] += count\n",
    "                word_counts = stemmed_word_counts\n",
    "\n",
    "            # If stemming=True, applies Porter Stemming (e.g., running → run).\n",
    "            #  Stores stemmed words and their counts in stemmed_word_counts.\n",
    "\n",
    "            X_transformed.append(word_counts)\n",
    "             # Stores processed text as a list of word count dictionaries.\n",
    "        \n",
    "        return np.array(X_transformed)\n",
    "\n",
    "\n"
   ]
  },
  {
   "cell_type": "markdown",
   "id": "d60ef473-0799-4c74-9c3d-69d2987e8972",
   "metadata": {},
   "source": [
    "Regex\tMeaning\n",
    "\n",
    "\\d+\tMatches any number (e.g., 1234)\n",
    "\n",
    "https?://\\S+\tMatches URLs (e.g., https://example.com)\n",
    "\n",
    "\\W+\tMatches all non-word characters (punctuation, symbols)\n",
    "\n",
    "\\s+\tMatches extra spaces or newlines\n",
    "    \n",
    "<.*?>\tMatches HTML tags (e.g., <b>bold</b>)"
   ]
  },
  {
   "cell_type": "markdown",
   "id": "2b434441-e83d-4f72-81af-11611b57d24c",
   "metadata": {},
   "source": [
    "Let's try this transformer on a few emails:"
   ]
  },
  {
   "cell_type": "code",
   "execution_count": 138,
   "id": "d5dc7136-4685-4441-9635-ee5859cb9970",
   "metadata": {},
   "outputs": [
    {
     "data": {
      "text/plain": [
       "array([Counter({'chuck': 1, 'murcko': 1, 'wrote': 1, 'stuff': 1, 'yawn': 1, 'r': 1}),\n",
       "       Counter({'the': 11, 'of': 9, 'and': 8, 'all': 3, 'christian': 3, 'to': 3, 'by': 3, 'jefferson': 2, 'i': 2, 'have': 2, 'superstit': 2, 'one': 2, 'on': 2, 'been': 2, 'ha': 2, 'half': 2, 'rogueri': 2, 'teach': 2, 'jesu': 2, 'some': 1, 'interest': 1, 'quot': 1, 'url': 1, 'thoma': 1, 'examin': 1, 'known': 1, 'word': 1, 'do': 1, 'not': 1, 'find': 1, 'in': 1, 'our': 1, 'particular': 1, 'redeem': 1, 'featur': 1, 'they': 1, 'are': 1, 'alik': 1, 'found': 1, 'fabl': 1, 'mytholog': 1, 'million': 1, 'innoc': 1, 'men': 1, 'women': 1, 'children': 1, 'sinc': 1, 'introduct': 1, 'burnt': 1, 'tortur': 1, 'fine': 1, 'imprison': 1, 'what': 1, 'effect': 1, 'thi': 1, 'coercion': 1, 'make': 1, 'world': 1, 'fool': 1, 'other': 1, 'hypocrit': 1, 'support': 1, 'error': 1, 'over': 1, 'earth': 1, 'six': 1, 'histor': 1, 'american': 1, 'john': 1, 'e': 1, 'remsburg': 1, 'letter': 1, 'william': 1, 'short': 1, 'again': 1, 'becom': 1, 'most': 1, 'pervert': 1, 'system': 1, 'that': 1, 'ever': 1, 'shone': 1, 'man': 1, 'absurd': 1, 'untruth': 1, 'were': 1, 'perpetr': 1, 'upon': 1, 'a': 1, 'larg': 1, 'band': 1, 'dupe': 1, 'import': 1, 'led': 1, 'paul': 1, 'first': 1, 'great': 1, 'corrupt': 1}),\n",
       "       Counter({'url': 4, 's': 3, 'group': 3, 'to': 3, 'in': 2, 'forteana': 2, 'martin': 2, 'an': 2, 'and': 2, 'we': 2, 'is': 2, 'yahoo': 2, 'unsubscrib': 2, 'y': 1, 'adamson': 1, 'wrote': 1, 'for': 1, 'altern': 1, 'rather': 1, 'more': 1, 'factual': 1, 'base': 1, 'rundown': 1, 'on': 1, 'hamza': 1, 'career': 1, 'includ': 1, 'hi': 1, 'belief': 1, 'that': 1, 'all': 1, 'non': 1, 'muslim': 1, 'yemen': 1, 'should': 1, 'be': 1, 'murder': 1, 'outright': 1, 'know': 1, 'how': 1, 'unbias': 1, 'memri': 1, 'don': 1, 't': 1, 'html': 1, 'rob': 1, 'sponsor': 1, 'number': 1, 'dvd': 1, 'free': 1, 'p': 1, 'join': 1, 'now': 1, 'from': 1, 'thi': 1, 'send': 1, 'email': 1, 'egroup': 1, 'com': 1, 'your': 1, 'use': 1, 'of': 1, 'subject': 1})],\n",
       "      dtype=object)"
      ]
     },
     "execution_count": 138,
     "metadata": {},
     "output_type": "execute_result"
    }
   ],
   "source": [
    "X_few = X_train[:3]\n",
    "X_few_wordcounts = EmailToWordCounterTransformer().fit_transform(X_few)\n",
    "X_few_wordcounts"
   ]
  },
  {
   "cell_type": "markdown",
   "id": "6b013871-6e0e-46e8-8804-b2b7e19ef223",
   "metadata": {},
   "source": [
    "This looks about right!\n",
    "\n",
    "Now we have the word counts, and we need to convert them to vectors. For this, we will build another transformer whose fit() method will build the vocabulary (an ordered list of the most common words) and whose transform() method will use the vocabulary to convert word counts to vectors. The output is a sparse matrix."
   ]
  },
  {
   "cell_type": "code",
   "execution_count": 141,
   "id": "739a0b8d-72cc-478c-ac2b-eba09db393bd",
   "metadata": {},
   "outputs": [],
   "source": [
    "from scipy.sparse import csr_matrix\n",
    "# Efficient sparse matrix representation (saves memory by storing only nonzero values).\n",
    "class WordCounterToVectorTransformer(BaseEstimator, TransformerMixin):\n",
    "    def __init__(self, vocabulary_size=1000):\n",
    "        self.vocabulary_size = vocabulary_size\n",
    "    # Sets vocabulary_size (default 1000), which limits the number of words used.\n",
    "    def fit(self, X, y=None):\n",
    "        total_count = Counter()\n",
    "        for word_count in X:\n",
    "            for word, count in word_count.items():\n",
    "                total_count[word] += min(count, 10)\n",
    "        #  Aggregates word frequencies from all emails in X.\n",
    "        # Limits word count contribution per email to 10 (avoiding bias from frequent words).\n",
    "        most_common = total_count.most_common()[:self.vocabulary_size]\n",
    "        self.vocabulary_ = {word: index + 1 for index, (word, count) in enumerate(most_common)}\n",
    "        # Selects the top vocabulary_size words and assigns them an index (starting from 1).\n",
    "        return self\n",
    "    def transform(self, X, y=None):\n",
    "        rows = []\n",
    "        cols = []\n",
    "        data = []\n",
    "        # Initializes lists to store nonzero values for the sparse matrix.\n",
    "        for row, word_count in enumerate(X):\n",
    "            # Loops through each email\n",
    "            for word, count in word_count.items():\n",
    "                 # For each word:\n",
    "                rows.append(row)\n",
    "                 # Stores email index\n",
    "                cols.append(self.vocabulary_.get(word, 0))\n",
    "                # Gets word index (0 for out-of-vocab words).\n",
    "                data.append(count)\n",
    "                # Stores word frequency.\n",
    "        return csr_matrix((data, (rows, cols)), shape=(len(X), self.vocabulary_size + 1))\n",
    "        # Converts the lists into a compressed sparse row (CSR) matrix.\n",
    "        #  The shape is (number_of_emails, vocabulary_size + 1).\n",
    "        # Saves memory by storing only nonzero values."
   ]
  },
  {
   "cell_type": "code",
   "execution_count": 121,
   "id": "9c9eda88-6bef-4442-b4eb-bc4f24e2702a",
   "metadata": {},
   "outputs": [
    {
     "data": {
      "text/plain": [
       "<3x11 sparse matrix of type '<class 'numpy.int32'>'\n",
       "\twith 20 stored elements in Compressed Sparse Row format>"
      ]
     },
     "execution_count": 121,
     "metadata": {},
     "output_type": "execute_result"
    }
   ],
   "source": [
    "\n",
    "vocab_transformer = WordCounterToVectorTransformer(vocabulary_size=10)\n",
    "# This initializes the transformer with vocabulary_size=10, meaning it will keep only the top 10 most common words.\n",
    "X_few_vectors = vocab_transformer.fit_transform(X_few_wordcounts)\n",
    "X_few_vectors"
   ]
  },
  {
   "cell_type": "markdown",
   "id": "95bc702f-25be-4655-b395-388823ac8299",
   "metadata": {},
   "source": [
    "What does this matrix mean? Well, the 99 in the second row, first column, means that the second email contains 99 words that are not part of the vocabulary. The 11 next to it means that the first word in the vocabulary is present 11 times in this email. The 9 next to it means that the second word is present 9 times, and so on. You can look at the vocabulary to know which words we are talking about. The first word is \"the\", the second word is \"of\", etc.\n",
    "\n"
   ]
  },
  {
   "cell_type": "code",
   "execution_count": 124,
   "id": "d1e92d29-aadd-4711-b52b-396566563cca",
   "metadata": {},
   "outputs": [
    {
     "data": {
      "text/plain": [
       "{'the': 1,\n",
       " 'of': 2,\n",
       " 'and': 3,\n",
       " 'to': 4,\n",
       " 'url': 5,\n",
       " 'all': 6,\n",
       " 'in': 7,\n",
       " 'christian': 8,\n",
       " 'on': 9,\n",
       " 'by': 10}"
      ]
     },
     "execution_count": 124,
     "metadata": {},
     "output_type": "execute_result"
    }
   ],
   "source": [
    "vocab_transformer.vocabulary_"
   ]
  },
  {
   "cell_type": "markdown",
   "id": "e97670a9-5866-4a95-ad25-cb4c7650e2e1",
   "metadata": {},
   "source": [
    "We are now ready to train our first spam classifier! Let's transform the whole dataset:"
   ]
  },
  {
   "cell_type": "code",
   "execution_count": 127,
   "id": "e5b23988-e475-4bed-95a1-a14d8d304beb",
   "metadata": {},
   "outputs": [],
   "source": [
    "from sklearn.pipeline import Pipeline\n",
    "\n",
    "preprocess_pipeline = Pipeline([\n",
    "    (\"email_to_wordcount\", EmailToWordCounterTransformer()),\n",
    "    (\"wordcount_to_vector\", WordCounterToVectorTransformer()),\n",
    "])\n",
    "# EmailToWordCounterTransformer() → Converts emails into word frequency dictionaries.\n",
    "# WordCounterToVectorTransformer() → Converts word frequency dictionaries into sparse vectors\n",
    "X_train_transformed = preprocess_pipeline.fit_transform(X_train)"
   ]
  },
  {
   "cell_type": "code",
   "execution_count": 143,
   "id": "959c48bf-902d-4132-9fef-087339f51eb0",
   "metadata": {},
   "outputs": [
    {
     "name": "stdout",
     "output_type": "stream",
     "text": [
      "[CV] END ................................ score: (test=0.981) total time=   0.0s\n",
      "[CV] END ................................ score: (test=0.985) total time=   0.0s\n",
      "[CV] END ................................ score: (test=0.990) total time=   0.0s\n"
     ]
    },
    {
     "data": {
      "text/plain": [
       "0.9854166666666666"
      ]
     },
     "execution_count": 143,
     "metadata": {},
     "output_type": "execute_result"
    }
   ],
   "source": [
    "from sklearn.linear_model import LogisticRegression\n",
    "from sklearn.model_selection import cross_val_score\n",
    "\n",
    "log_clf = LogisticRegression(solver=\"lbfgs\", max_iter=1000, random_state=42)\n",
    "score = cross_val_score(log_clf, X_train_transformed, y_train, cv=3, verbose=3)\n",
    "score.mean()\n",
    "\n",
    "# solver=\"lbfgs\" → Uses the LBFGS optimization algorithm, suitable for small to medium datasets.\n",
    "# max_iter=1000 → Increases the number of iterations (default is 100), ensuring the model converges.\n",
    "# random_state=42 → Ensures reproducibility."
   ]
  },
  {
   "cell_type": "markdown",
   "id": "2d3c4ab2-a72b-42a4-9a33-6ef68a3028e6",
   "metadata": {},
   "source": [
    "Over 98.5%, not bad for a first try! :) However, remember that we are using the \"easy\" dataset. You can try with the harder datasets, the results won't be so amazing. You would have to try multiple models, select the best ones and fine-tune them using cross-validation, and so on.\n",
    "\n",
    "But you get the picture, so let's stop now, and just print out the precision/recall we get on the test set:"
   ]
  },
  {
   "cell_type": "code",
   "execution_count": 130,
   "id": "859edfb8-7490-4344-9e46-49a93e701ac5",
   "metadata": {},
   "outputs": [
    {
     "name": "stdout",
     "output_type": "stream",
     "text": [
      "Precision: 93.94%\n",
      "Recall: 97.89%\n"
     ]
    }
   ],
   "source": [
    "\n",
    "from sklearn.metrics import precision_score, recall_score\n",
    "\n",
    "X_test_transformed = preprocess_pipeline.transform(X_test)\n",
    "\n",
    "log_clf = LogisticRegression(solver=\"lbfgs\", max_iter=1000, random_state=42)\n",
    "log_clf.fit(X_train_transformed, y_train)\n",
    "\n",
    "y_pred = log_clf.predict(X_test_transformed)\n",
    "\n",
    "print(\"Precision: {:.2f}%\".format(100 * precision_score(y_test, y_pred)))\n",
    "print(\"Recall: {:.2f}%\".format(100 * recall_score(y_test, y_pred)))"
   ]
  },
  {
   "cell_type": "markdown",
   "id": "09621825-b61e-4df4-9063-2d1da365f470",
   "metadata": {},
   "source": [
    "precision_score → Measures the proportion of correctly predicted spam emails.\n",
    "\n",
    "recall_score → Measures the proportion of actual spam emails that were correctly identified."
   ]
  },
  {
   "cell_type": "code",
   "execution_count": null,
   "id": "16ecc34a-171e-4477-97c1-5521cd00fe1d",
   "metadata": {},
   "outputs": [],
   "source": []
  }
 ],
 "metadata": {
  "kernelspec": {
   "display_name": "Python [conda env:base] *",
   "language": "python",
   "name": "conda-base-py"
  },
  "language_info": {
   "codemirror_mode": {
    "name": "ipython",
    "version": 3
   },
   "file_extension": ".py",
   "mimetype": "text/x-python",
   "name": "python",
   "nbconvert_exporter": "python",
   "pygments_lexer": "ipython3",
   "version": "3.12.7"
  }
 },
 "nbformat": 4,
 "nbformat_minor": 5
}
